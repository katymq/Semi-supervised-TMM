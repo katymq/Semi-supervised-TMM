{
 "cells": [
  {
   "attachments": {},
   "cell_type": "markdown",
   "metadata": {},
   "source": [
    "# Mnist data set\n",
    "\n"
   ]
  },
  {
   "cell_type": "code",
   "execution_count": 2,
   "metadata": {},
   "outputs": [],
   "source": [
    "import os\n",
    "general_path = r'C:\\Users\\kmorales\\Desktop\\3th PhD\\PMM SImulations' \n",
    "os.chdir(general_path)"
   ]
  },
  {
   "cell_type": "code",
   "execution_count": 6,
   "metadata": {},
   "outputs": [],
   "source": [
    "import pandas as pd\n",
    "from math import sqrt\n",
    "import numpy as np\n",
    "import matplotlib.pyplot as plt\n",
    "from scipy.special import logsumexp\n",
    "\n",
    "import torch\n",
    "from torch import nn\n",
    "from torchsummary import summary\n",
    "from torch.distributions.multivariate_normal import MultivariateNormal\n",
    "from torch.distributions.bernoulli import Bernoulli\n",
    "from torch.distributions.normal import Normal\n",
    "import torch.distributions.normal as Norm\n",
    "import torch.distributions.kl as KL\n",
    "import torch.nn.functional as F"
   ]
  },
  {
   "cell_type": "code",
   "execution_count": 7,
   "metadata": {},
   "outputs": [],
   "source": [
    "if torch.cuda.is_available():  \n",
    "    device = \"cuda:0\" \n",
    "else:  \n",
    "    device = \"cpu\"  "
   ]
  },
  {
   "attachments": {},
   "cell_type": "markdown",
   "metadata": {},
   "source": [
    "## Data"
   ]
  },
  {
   "cell_type": "code",
   "execution_count": 128,
   "metadata": {},
   "outputs": [
    {
     "name": "stdout",
     "output_type": "stream",
     "text": [
      "shape x train (60000, 784)\n",
      "shape y train 60000\n",
      "shape x test (10000, 784)\n",
      "shape y test 10000\n"
     ]
    }
   ],
   "source": [
    "#-------------------------------\n",
    "# Change the name to create or load the data and models\n",
    "folder_data = 'Data'\n",
    "data = 'mnist'\n",
    "if not os.path.exists(os.path.join(general_path, data)):\n",
    "    print('Creating folder to save models: ', os.path.join(general_path, data))\n",
    "    os.makedirs(os.path.join(general_path, data))\n",
    "\n",
    "\n",
    "x_train = np.load(os.path.join(general_path, folder_data,'x_train.npy'))\n",
    "y_train = np.load(os.path.join(general_path, folder_data,'train_labels.npy'))\n",
    "x_test = np.load(os.path.join(general_path, folder_data,'x_test.npy'))\n",
    "y_test = np.load(os.path.join(general_path, folder_data,'test_labels.npy'))\n",
    "print('shape x train', x_train.shape)\n",
    "print('shape y train', len(y_train))\n",
    "print('shape x test', x_test.shape)\n",
    "print('shape y test', len(y_test))\n"
   ]
  },
  {
   "cell_type": "code",
   "execution_count": 496,
   "metadata": {},
   "outputs": [
    {
     "name": "stdout",
     "output_type": "stream",
     "text": [
      "shape train  1 (5923, 784)\n",
      "shape test  1 (980, 784)\n"
     ]
    }
   ],
   "source": [
    "#--------------------------------------------\n",
    "# Digit 0 to 9\n",
    "digit = 0 # None: all data\n",
    "#--------------------------------------------\n",
    "if digit == None:\n",
    "    trainY = y_train\n",
    "    testY = y_test\n",
    "    trainX = x_train\n",
    "    testX = x_test\n",
    "else:\n",
    "    idx =  np.where(y_train==digit)[0]\n",
    "    trainY, trainX = y_train[idx] ,  x_train[idx]\n",
    "    idx =  np.where(y_test==digit)[0]\n",
    "    testY, testX = y_test[idx], x_test[idx]\n",
    "\n",
    "print('shape train  1', trainX.shape)\n",
    "print('shape test  1', testX.shape)\n",
    "    "
   ]
  },
  {
   "attachments": {},
   "cell_type": "markdown",
   "metadata": {},
   "source": [
    "## Pre-processing for semi-supervised models"
   ]
  },
  {
   "cell_type": "code",
   "execution_count": 57,
   "metadata": {},
   "outputs": [],
   "source": [
    "from utils.utils_semi import *"
   ]
  },
  {
   "cell_type": "code",
   "execution_count": 56,
   "metadata": {},
   "outputs": [],
   "source": [
    "# True masks (true binary images)\n",
    "trainYT, testYT = trainX.copy(), testX.copy()"
   ]
  },
  {
   "cell_type": "code",
   "execution_count": 116,
   "metadata": {},
   "outputs": [],
   "source": [
    "# #name _01 params = {'p': 0.4, 'mu': 1, 'sigma': 0.25, 'size': 28}\n",
    "# # without complex noisy images\n",
    "# p = 0.4 \n",
    "# mu = 1\n",
    "# sigma = 0.25\n",
    "# size = 28\n",
    "# trainX_seq = semi_sup_preprocessing(trainX, p, mu, sigma, size)\n",
    "# testX_seq = semi_sup_preprocessing(testX, p, mu, sigma, size)\n",
    "# np.save(os.path.join(general_path, folder_data,'trainX_seq-01.npy'), trainX_seq)\n",
    "# np.save(os.path.join(general_path, folder_data,'testX_seq-01.npy'), testX_seq)\n"
   ]
  },
  {
   "cell_type": "code",
   "execution_count": 117,
   "metadata": {},
   "outputs": [],
   "source": [
    "x_y_train = np.load(os.path.join(general_path, folder_data,'trainX_seq-01.npy'), allow_pickle=True)\n",
    "x_y_test = np.load(os.path.join(general_path, folder_data,'testX_seq-01.npy'), allow_pickle=True)"
   ]
  },
  {
   "cell_type": "code",
   "execution_count": 83,
   "metadata": {},
   "outputs": [
    {
     "data": {
      "image/png": "[encoded data removed]",
      "text/plain": [
       "<Figure size 432x288 with 1 Axes>"
      ]
     },
     "metadata": {
      "needs_background": "light"
     },
     "output_type": "display_data"
    },
    {
     "data": {
      "image/png": "[encoded data removed]",
      "text/plain": [
       "<Figure size 432x288 with 1 Axes>"
      ]
     },
     "metadata": {
      "needs_background": "light"
     },
     "output_type": "display_data"
    },
    {
     "data": {
      "image/png": "[encoded data removed]",
      "text/plain": [
       "<Figure size 432x288 with 1 Axes>"
      ]
     },
     "metadata": {
      "needs_background": "light"
     },
     "output_type": "display_data"
    }
   ],
   "source": [
    "# Example of inputs for the model\n",
    "idx = 1180\n",
    "plt.imshow(x_y_train[idx][0], cmap='gray')\n",
    "plt.show()\n",
    "plt.imshow(x_y_train[idx][1], cmap='gray')\n",
    "plt.show()\n",
    "plt.imshow(trainYT[idx], cmap='gray')\n",
    "plt.show()"
   ]
  },
  {
   "attachments": {},
   "cell_type": "markdown",
   "metadata": {},
   "source": [
    "```\n",
    " (seq, batch, elem)\n",
    "[time, batch_size, x_dim]\n",
    "x_[t] = [batch_size, x_dim]\n",
    "We take several observations at time t\n",
    "```"
   ]
  },
  {
   "attachments": {},
   "cell_type": "markdown",
   "metadata": {},
   "source": [
    "# Semi supervised models\n",
    "\n",
    "\n"
   ]
  },
  {
   "attachments": {},
   "cell_type": "markdown",
   "metadata": {},
   "source": [
    "### Creation data loaders"
   ]
  },
  {
   "cell_type": "code",
   "execution_count": 222,
   "metadata": {},
   "outputs": [],
   "source": [
    "import torch\n",
    "from torch.utils.data import Dataset\n",
    "\n",
    "class Seq_Image(Dataset):\n",
    "    '''\n",
    "    Images for the semi-supervised model\n",
    "    '''\n",
    "    def __init__(self, image_list, image_shape, transforms = None):\n",
    "        # store the image and mask file\n",
    "        self.image_list = image_list # [x image, y mask]\n",
    "        self.transforms = transforms\n",
    "        self.image_shape =  image_shape\n",
    "    def __len__(self):\n",
    "        return len(self.image_list)\n",
    "        \n",
    "    \n",
    "    def __getitem__(self, idx):\n",
    "        # grab the image path from the current index    \n",
    "        image  = self.image_list[idx][0].reshape(self.image_shape)\n",
    "        mask = self.image_list[idx][1].reshape(self.image_shape)\n",
    "        image = torch.tensor(image, dtype=torch.float32)\n",
    "        mask = torch.tensor(mask, dtype=torch.long) \n",
    "\n",
    "       # check to see if we are applying any transformations\n",
    "        if self.transforms is not None:\n",
    "            transformed = self.transforms(image=image, mask=mask)\n",
    "            image = transformed[\"image\"]\n",
    "            mask = transformed[\"mask\"]\n",
    "        return image, mask\n"
   ]
  },
  {
   "cell_type": "code",
   "execution_count": 336,
   "metadata": {},
   "outputs": [],
   "source": [
    "# trainX_seq a list of [x, y_missing] where x is the noisy image and y_missing is the image with missing labels\n",
    "x_y_train = np.load(os.path.join(general_path, folder_data,'trainX_seq-01.npy'), allow_pickle=True)\n",
    "x_y_test = np.load(os.path.join(general_path, folder_data,'testX_seq-01.npy'), allow_pickle=True)"
   ]
  },
  {
   "cell_type": "code",
   "execution_count": 228,
   "metadata": {},
   "outputs": [
    {
     "ename": "AttributeError",
     "evalue": "'Seq_Image' object has no attribute 'shape'",
     "output_type": "error",
     "traceback": [
      "\u001b[1;31m---------------------------------------------------------------------------\u001b[0m",
      "\u001b[1;31mAttributeError\u001b[0m                            Traceback (most recent call last)",
      "\u001b[1;32m<ipython-input-228-4ef4961792f9>\u001b[0m in \u001b[0;36m<module>\u001b[1;34m\u001b[0m\n\u001b[0;32m      7\u001b[0m \u001b[0mdataset_test\u001b[0m \u001b[1;33m=\u001b[0m \u001b[0mSeq_Image\u001b[0m\u001b[1;33m(\u001b[0m\u001b[0mx_y_test\u001b[0m\u001b[1;33m,\u001b[0m \u001b[1;33m(\u001b[0m\u001b[0msize\u001b[0m\u001b[1;33m*\u001b[0m\u001b[0msize\u001b[0m\u001b[1;33m,\u001b[0m\u001b[1;36m1\u001b[0m\u001b[1;33m)\u001b[0m\u001b[1;33m)\u001b[0m\u001b[1;33m\u001b[0m\u001b[1;33m\u001b[0m\u001b[0m\n\u001b[0;32m      8\u001b[0m \u001b[1;33m\u001b[0m\u001b[0m\n\u001b[1;32m----> 9\u001b[1;33m \u001b[0mprint\u001b[0m   \u001b[1;33m(\u001b[0m\u001b[0mdataset\u001b[0m\u001b[1;33m.\u001b[0m\u001b[0mshape\u001b[0m\u001b[1;33m)\u001b[0m\u001b[1;33m\u001b[0m\u001b[1;33m\u001b[0m\u001b[0m\n\u001b[0m\u001b[0;32m     10\u001b[0m \u001b[0mtrain_loader\u001b[0m \u001b[1;33m=\u001b[0m \u001b[0mtorch\u001b[0m\u001b[1;33m.\u001b[0m\u001b[0mutils\u001b[0m\u001b[1;33m.\u001b[0m\u001b[0mdata\u001b[0m\u001b[1;33m.\u001b[0m\u001b[0mDataLoader\u001b[0m\u001b[1;33m(\u001b[0m\u001b[0mdataset\u001b[0m\u001b[1;33m,\u001b[0m\u001b[0mbatch_sz\u001b[0m\u001b[1;33m,\u001b[0m\u001b[0mshuffle\u001b[0m\u001b[1;33m=\u001b[0m\u001b[1;32mFalse\u001b[0m\u001b[1;33m)\u001b[0m\u001b[1;33m\u001b[0m\u001b[1;33m\u001b[0m\u001b[0m\n\u001b[0;32m     11\u001b[0m \u001b[1;31m# Here we use batch size 1 because we want to have the same size of the input for the model and get a dice score por each image\u001b[0m\u001b[1;33m\u001b[0m\u001b[1;33m\u001b[0m\u001b[1;33m\u001b[0m\u001b[0m\n",
      "\u001b[1;31mAttributeError\u001b[0m: 'Seq_Image' object has no attribute 'shape'"
     ]
    }
   ],
   "source": [
    "# batch_sz = 1\n",
    "# size = 28\n",
    "\n",
    "# dataset = Seq_Image(x_y_train, (size*size,1))\n",
    "# dataset_test = Seq_Image(x_y_test, (size*size,1))\n",
    "\n",
    "# print   (dataset.shape)\n",
    "# train_loader = torch.utils.data.DataLoader(dataset,batch_sz,shuffle=False)\n",
    "# # Here we use batch size 1 because we want to have the same size of the input for the model and get a dice score por each image\n",
    "# test_loader = torch.utils.data.DataLoader(dataset_test,batch_sz,shuffle=False)\n",
    "\n",
    "# for batch_idx, datos in enumerate(train_loader):\n",
    "#     x, y = datos\n",
    "#     x, y = x.to(device), y.to(device)\n",
    "\n",
    "#     print(x.shape), print(y.shape)\n",
    "# # for batch_idx, datos in enumerate(train_loader):\n",
    "# #     x, y = datos\n",
    "# #     x, y = x.to(device), y.to(device)\n",
    "# #     x = x.transpose(0, 1).unsqueeze(2)\n",
    "# #     y = y.transpose(0, 1).unsqueeze(2)\n",
    "# #     print(x.shape), print(y.shape)"
   ]
  },
  {
   "cell_type": "code",
   "execution_count": 140,
   "metadata": {},
   "outputs": [],
   "source": [
    "# def train(train_loader, epoch, model, optimizer, batch_sz, clip, print_every,device):\n",
    "#     '''\n",
    "#     This function trains the model for one epoch\n",
    "#     Inputs:\n",
    "#         train_loader: data loader for the training set\n",
    "#         epoch: current epoch\n",
    "#         model: model to train\n",
    "#         optimizer: optimizer to use\n",
    "#         batch_sz: batch size\n",
    "#         clip: gradient clipping\n",
    "#         print_every: print every n batches\n",
    "#         device: cpu or gpu\n",
    "#     Outputs:\n",
    "#         train_loss: loss for the training set\n",
    "#     '''\n",
    "#     train_loss = 0\n",
    "#     for batch_idx, datos in enumerate(train_loader):\n",
    "#         x, y = datos\n",
    "#         x, y = x.to(device), y.to(device)\n",
    "#         x = x.transpose(0, 1).unsqueeze(2)\n",
    "#         y = y.transpose(0, 1).unsqueeze(2)\n",
    "            \n",
    "#         #forward + backward + optimize\n",
    "#         optimizer.zero_grad()\n",
    "    \n",
    "#         kld_loss_l, rec_loss_l, y_loss_l, kld_loss_u, rec_loss_u, y_loss_u = model(x,y)\n",
    "#         loss_l = kld_loss_l + rec_loss_l + y_loss_l\n",
    "#         loss_u = kld_loss_u + rec_loss_u + y_loss_u\n",
    "#         loss = loss_l + loss_u\n",
    "#         loss.backward()\n",
    "#         nn.utils.clip_grad_norm(model.parameters(), clip)\n",
    "#         optimizer.step()\n",
    "        \n",
    "#         #printing\n",
    "#         if batch_idx % print_every == 0:\n",
    "#             print('Train Epoch: {} [{}/{} ({:.0f}%)]\\t  Loss Labeled: {:.6f} \\t Loss Unlabeled: {:.6f}'.format(\n",
    "#                 epoch, batch_idx * len(datos), len(train_loader.dataset),\n",
    "#                 100. * batch_idx / len(train_loader),\n",
    "#                 loss_l.item()/batch_sz,\n",
    "#                 loss_u.item()/batch_sz))     \n",
    "#             print('\\n kdl_loss_l: {:.4f} \\t rec_loss_l: {:.4f} \\t y_loss_l: {:.4f}'.format(kld_loss_l.item()/batch_sz, rec_loss_l.item()/batch_sz, y_loss_l.item()/batch_sz))\n",
    "#             print('\\n kdl_loss_u: {:.4f} \\t rec_loss_u: {:.4f} \\t y_loss_u: {:.4f}'.format(kld_loss_u.item()/batch_sz, rec_loss_u.item()/batch_sz, y_loss_u.item()/batch_sz))\n",
    "#         train_loss += loss.item()\n",
    "        \n",
    "#     print('')\n",
    "#     print('Train> Epoch: {} average -ELBO: {:.4f}'.format(epoch, train_loss/ len(train_loader.dataset)))\n",
    "#     return train_loss/ len(train_loader.dataset)\n",
    "\n",
    "\n",
    "# def test(test_loader, model):\n",
    "#     \"\"\"uses test data to evaluate\n",
    "#     likelihood of the model\"\"\"\n",
    "#     test_loss = 0\n",
    "#     Label = 0\n",
    "#     Unlabel = 0\n",
    "#     for i, datos in enumerate(test_loader):\n",
    "#         x, y = datos\n",
    "#         x, y = x.to(device), y.to(device)\n",
    "#         x = x.transpose(0, 1).unsqueeze(2)\n",
    "#         y = y.transpose(0, 1).unsqueeze(2)\n",
    "\n",
    "#         kld_loss_l, rec_loss_l, y_loss_l, kld_loss_u, rec_loss_u, y_loss_u = model(x,y)\n",
    "#         loss_l = kld_loss_l + rec_loss_l + y_loss_l\n",
    "#         loss_u = kld_loss_u + rec_loss_u + y_loss_u\n",
    "#         loss = loss_l + loss_u\n",
    "#         loss.backward()\n",
    "#         nn.utils.clip_grad_norm(model.parameters(), clip)\n",
    "#         optimizer.step()\n",
    "\n",
    "#         test_loss += Label + Unlabel\n",
    "        \n",
    "#     print('Test Loss:  Loss Labeled: {:.6f} \\t Loss Unlabeled: {:.6f}'.format(\n",
    "#         Label/len(test_loader.dataset),\n",
    "#         Unlabel/len(test_loader.dataset)))     \n",
    "    \n",
    "#     return (test_loss)/len(test_loader.dataset)\n",
    "    \n",
    "\n",
    "# def run_model(train_loader,test_loader,model,optimizer,batch_sz,clip, path_save_model, n_epochs ,print_every, device,save_every=5):\n",
    "#     train_LOSS = []\n",
    "#     test_LOSS = []\n",
    "#     path_save = os.path.join(path_save_model, model.__class__.__name__.casefold() +'_state_')\n",
    "#     print('The model is saved in this path', os.path.join(path_save_model, model.__class__.__name__.casefold()))\n",
    "#     for epoch in range(1, n_epochs + 1):\n",
    "#         #training + testing\n",
    "#         LOSS  = train(train_loader, epoch, model, optimizer, batch_sz, clip, print_every,device)\n",
    "#         LOSS_T = test(test_loader, model)\n",
    "        \n",
    "#         train_LOSS.append(LOSS)\n",
    "#         test_LOSS.append(LOSS_T)\n",
    "        \n",
    "#         #saving model\n",
    "#         if epoch % save_every == 0:\n",
    "#             fn = path_save+str(epoch)+'.pth'\n",
    "#             torch.save({\n",
    "#                         'epoch': epoch,\n",
    "#                         'model_state_dict': model.state_dict(),\n",
    "#                         'optimizer_state_dict': optimizer.state_dict(),\n",
    "#                         'loss': LOSS,\n",
    "#                         }, fn)\n",
    "#             #torch.save(model.state_dict(), fn)\n",
    "#             print('Saved model to '+fn)\n",
    "#         if epoch % print_every == 0:\n",
    "#             np.save(path_save+'train_'+str(epoch)+'.npy', train_LOSS)\n",
    "#             np.save(path_save+'val_'+str(epoch)+'.npy', test_LOSS)\n",
    "            \n",
    "#     return train_LOSS, test_LOSS\n",
    "\n",
    "\n"
   ]
  },
  {
   "cell_type": "code",
   "execution_count": 263,
   "metadata": {},
   "outputs": [],
   "source": [
    "def run_model_seq(x, y,model,optimizer,clip, path_save_model, n_epochs , device,save_every=5):\n",
    "    train_LOSS = []\n",
    "    path_save = os.path.join(path_save_model, model.__class__.__name__.casefold() +'_state_')\n",
    "    print('The model is saved in this path', os.path.join(path_save_model, model.__class__.__name__.casefold()))\n",
    "    for epoch in range(1, n_epochs + 1):\n",
    "        #training \n",
    "        kld_loss_l, rec_loss_l, y_loss_l, kld_loss_u, rec_loss_u, y_loss_u = model(x,y)\n",
    "        loss_l = kld_loss_l + rec_loss_l + y_loss_l\n",
    "        loss_u = kld_loss_u + rec_loss_u + y_loss_u        \n",
    "        loss = loss_l + loss_u\n",
    "        loss.backward()\n",
    "        nn.utils.clip_grad_norm(model.parameters(), clip)\n",
    "        optimizer.step()\n",
    "        train_LOSS.append(loss.item())\n",
    "        \n",
    "        #saving model\n",
    "        if epoch % save_every == 0:\n",
    "            print('Loss Labeled: {:.6f} \\t Loss Unlabeled: {:.6f}'.format(\n",
    "                    loss_l.item(), loss_u.item()))     \n",
    "            print('\\n kdl_loss_l: {:.4f} \\t rec_loss_l: {:.4f} \\t y_loss_l: {:.4f}'.format(kld_loss_l.item(), rec_loss_l.item(), y_loss_l.item()))\n",
    "            print('\\n kdl_loss_u: {:.4f} \\t rec_loss_u: {:.4f} \\t y_loss_u: {:.4f}'.format(kld_loss_u.item(), rec_loss_u.item(), y_loss_u.item()))\n",
    "    \n",
    "            fn = path_save+str(epoch)+'.pth'\n",
    "            torch.save({\n",
    "                        'epoch': epoch,\n",
    "                        'model_state_dict': model.state_dict(),\n",
    "                        'optimizer_state_dict': optimizer.state_dict(),\n",
    "                        'loss': LOSS,\n",
    "                        }, fn)\n",
    "            #torch.save(model.state_dict(), fn)\n",
    "            print('Saved model to '+fn)\n",
    "            np.save(path_save+'train_'+str(epoch)+'.npy', train_LOSS)\n",
    "            \n",
    "    return train_LOSS\n",
    "\n"
   ]
  },
  {
   "cell_type": "markdown",
   "metadata": {},
   "source": [
    "## Check of dimensions"
   ]
  },
  {
   "cell_type": "code",
   "execution_count": 320,
   "metadata": {},
   "outputs": [],
   "source": [
    "x_dim = 1\n",
    "z_dim = 25\n",
    "h_dim = 20\n",
    "y_dim = 1\n",
    "n_layers = 1\n",
    "bias=False\n",
    "\n",
    "from torch import nn\n",
    "from torchsummary import summary\n",
    "import torch\n",
    "\n",
    "Soft_threshold = nn.Sigmoid()\n",
    "\n",
    "# Prior p(z_t | y_t, h_{t-1}) = N (μt, σt)\n",
    "prior_z = nn.Sequential( nn.Linear(h_dim + y_dim, h_dim),\n",
    "                            nn.ReLU())\n",
    "\n",
    "prior_z_mean = nn.Linear(h_dim, z_dim)\n",
    "\n",
    "prior_z_std = nn.Sequential( nn.Linear (h_dim, z_dim), \n",
    "                            nn.Softplus())\n",
    "\n",
    "# Prior p(y_t | h_{t-1}) = Cat (θt) \n",
    "# In this case, we use a linear layer to predict the logits of the categorical distribution\n",
    "# We will use the sigmoid function to ensure that the logits are positive and only two classes\n",
    "# it means a Bernoulli distribution.\n",
    "prior_y = nn.Sequential( nn.Linear(h_dim, h_dim ),\n",
    "                        nn.ReLU(),\n",
    "                        nn.Linear(h_dim , h_dim ),\n",
    "                        nn.ReLU())\n",
    "\n",
    "prior_y_proba = nn.Sequential(nn.Linear(h_dim, h_dim ),\n",
    "                                nn.ReLU(),\n",
    "                                nn.Linear(h_dim, y_dim),\n",
    "                                nn.Sigmoid())\n",
    "\n",
    "# q(y_t | x_t, h_{t-1}) = Cat (θt)\n",
    "q_y = nn.Sequential( nn.Linear(x_dim + h_dim, h_dim ),\n",
    "                        nn.ReLU(),\n",
    "                        nn.Linear(h_dim , h_dim ),\n",
    "                        nn.ReLU())\n",
    "\n",
    "q_y_proba = nn.Sequential(nn.Linear(h_dim, h_dim ),\n",
    "                                nn.ReLU(),\n",
    "                                nn.Linear(h_dim, y_dim),\n",
    "                                nn.Sigmoid())\n",
    "\n",
    "\n",
    "# Encoder\n",
    "# q(z_t | x_t, y_t, h_{t-1}) = N (μt, σt)\n",
    "enc = nn.Sequential( nn.Linear(h_dim + x_dim + y_dim, h_dim),\n",
    "                        nn.ReLU(),\n",
    "                        nn.Linear(h_dim, h_dim),\n",
    "                        nn.ReLU())\n",
    "\n",
    "enc_mean = nn.Linear(h_dim, z_dim)\n",
    "enc_std = nn.Sequential( nn.Linear (h_dim, z_dim), \n",
    "                            nn.Softplus())\n",
    "\n",
    "# Decoder\n",
    "# p(x_t | z_t, y_t, h_{t-1}) = N (μt, σt)\n",
    "dec = nn.Sequential( nn.Linear(h_dim + z_dim + y_dim, h_dim),\n",
    "                        nn.ReLU(),\n",
    "                        nn.Linear(h_dim, h_dim),\n",
    "                        nn.ReLU())\n",
    "\n",
    "dec_mean = nn.Linear(h_dim, x_dim)\n",
    "dec_std = nn.Sequential( nn.Linear (h_dim, x_dim), \n",
    "                            nn.Softplus())\n",
    "# Recurrence\n",
    "# h_t = f(h_{t-1}, x_t, y_t, z_t)\n",
    "# Applies a multi-layer gated recurrent unit (GRU) RNN to an input sequence.\n",
    "rnn = nn.RNNCell( x_dim + z_dim + y_dim, h_dim, bias,nonlinearity='tanh')#nn.GRU( h_dim + x_dim + z_dim + y_dim , h_dim, n_layers)\n",
    "# summary(prior_z)\n",
    "# summary(prior_z_mean)\n",
    "# summary(prior_z_std)\n",
    "\n",
    "def _nll_ber( mean, x):\n",
    "        nll_loss = F.binary_cross_entropy(mean, x, reduction='sum')\n",
    "        return nll_loss\n",
    "    \n",
    "def _rec_gauss( x, mean, std):\n",
    "    rec_loss = torch.sum(0.5 * torch.log(2 * np.pi * std**2) + (x - mean)**2 / (2 * std**2))\n",
    "    return rec_loss\n",
    "\n",
    "def _kld_gauss( mean_1, std_1, mean_2, std_2):\n",
    "    norm_dis2 = Norm.Normal(mean_2, std_2)\n",
    "    norm_dis1 = Norm.Normal(mean_1, std_1)\n",
    "    kl_loss = torch.sum(KL.kl_divergence(norm_dis1, norm_dis2))\n",
    "    return    kl_loss\n",
    "\n",
    "def _kld_cat( q, p):\n",
    "    kl_loss = torch.sum(q * torch.log(q/p)+ (1-q) * torch.log((1-q)/(1-p)))\n",
    "    return kl_loss\n",
    "def _reparameterized_sample( mean, std):\n",
    "    \"\"\"using std to sample\"\"\"\n",
    "    eps = torch.FloatTensor(std.size()).normal_()\n",
    "    #eps = Variable(eps)\n",
    "    return eps.mul(std).add_(mean)\n",
    "\n",
    "def _reparameterized_sample_Gumbell( mean):\n",
    "    \"\"\"using std to sample\"\"\"\n",
    "    eps = torch.rand(mean.size())  #torch.FloatTensor(mean.size()).uniform()\n",
    "    #eps = Variable(eps)\n",
    "    value = torch.log(eps) - torch.log(1-eps) + torch.log(mean) - torch.log(1-mean)\n",
    "    return Soft_threshold(value)\n",
    "\n",
    "def encoder( x, y, h):\n",
    "    input_enc = torch.cat([x, y, h], 0)\n",
    "    enc_v = enc(input_enc)\n",
    "    enc_mean_v = enc_mean(enc_v)\n",
    "    enc_std_v = enc_std(enc_v)\n",
    "    return enc_mean_v, enc_std_v\n",
    "\n",
    "def decoder( z, y, h):\n",
    "    input_dec = torch.cat([z, y, h], 0)\n",
    "    dec_ = dec(input_dec)\n",
    "    dec_mean_ = dec_mean(dec_)\n",
    "    dec_std_ = dec_std(dec_)\n",
    "    return dec_mean_, dec_std_\n"
   ]
  },
  {
   "cell_type": "code",
   "execution_count": 342,
   "metadata": {},
   "outputs": [
    {
     "name": "stdout",
     "output_type": "stream",
     "text": [
      "x:  torch.Size([784, 1])\n",
      "y:  torch.Size([784, 1])\n"
     ]
    }
   ],
   "source": [
    "x_y_train = np.load(os.path.join(general_path, folder_data,'trainX_seq-01.npy'), allow_pickle=True)\n",
    "x_y_test = np.load(os.path.join(general_path, folder_data,'testX_seq-01.npy'), allow_pickle=True)\n",
    "\n",
    "idex = 50\n",
    "x  = x_y_train[idx][0].reshape((size*size,1))\n",
    "y = x_y_train[idx][1].reshape((size*size,1))\n",
    "x = torch.tensor(x, dtype=torch.float32)\n",
    "y = torch.tensor(y, dtype=torch.long) \n",
    "h_t = torch.zeros(1, h_dim)\n",
    "print('x: ', x.size())\n",
    "print('y: ', y.size())"
   ]
  },
  {
   "cell_type": "code",
   "execution_count": 373,
   "metadata": {},
   "outputs": [
    {
     "name": "stdout",
     "output_type": "stream",
     "text": [
      "x:  torch.Size([784, 1])\n",
      "y:  torch.Size([784, 1])\n",
      "h_t:  torch.Size([20])\n",
      "p_yt:  torch.Size([1])\n",
      "y_t :  torch.Size([1]) tensor([-1])\n",
      "q_yt:  torch.Size([1])\n",
      "input_pz:  torch.Size([21])\n",
      "prior_zt:  torch.Size([20])\n",
      "prior_zt_mean:  torch.Size([25])\n",
      "prior_zt_std:  torch.Size([25])\n",
      "enc_mean:  torch.Size([25])\n",
      "enc_std:  torch.Size([25])\n",
      "z_t:  torch.Size([25])\n",
      "kld_loss_l:  tensor(1.4692, grad_fn=<SumBackward0>)\n",
      "rec_loss_l:  tensor(0.5937, grad_fn=<SumBackward0>)\n",
      "y_loss_u:  tensor(0.0012, grad_fn=<SumBackward0>)\n",
      "rnn_input:  torch.Size([1, 27])\n",
      "h_t:  torch.Size([1, 20])\n"
     ]
    }
   ],
   "source": [
    "h_t = torch.zeros(h_dim)\n",
    "print('x: ', x.size())\n",
    "print('y: ', y.size())\n",
    "print('h_t: ', h_t.size())\n",
    "\n",
    "rnn = nn.RNNCell( x_dim + z_dim + y_dim, h_dim, bias,nonlinearity='tanh')#nn.GRU( h_dim + x_dim + z_dim + y_dim , h_dim, n_layers)\n",
    "\n",
    "t = 548\n",
    "y[t] = -1\n",
    "p_yt = prior_y_proba(prior_y(h_t))\n",
    "print('p_yt: ', p_yt.shape)\n",
    "print('y_t : ', y[t].shape, y[t])\n",
    "if y[t] == -1:\n",
    "    q_yt = q_y_proba(q_y( torch.cat([x[t], h_t], 0)))\n",
    "    print('q_yt: ', q_yt.shape)\n",
    "    #  # Sample y_t ~ q(y_t | x_t, h_{t-1})\n",
    "    y_t = _reparameterized_sample_Gumbell(q_yt)\n",
    "    y[t] = y_t\n",
    "    \n",
    "    input_pz =  torch.cat([y[t], h_t], 0)\n",
    "    print('input_pz: ', input_pz.shape)\n",
    "    prior_zt = prior_z(input_pz)\n",
    "    print('prior_zt: ', prior_zt.shape)\n",
    "    prior_zt_mean = prior_z_mean(prior_zt)\n",
    "    print('prior_zt_mean: ', prior_zt_mean.shape)\n",
    "    prior_zt_std = prior_z_std(prior_zt)\n",
    "    print('prior_zt_std: ', prior_zt_std.shape)\n",
    "    # # Encoder q(z_t | x_t, y_t, h_{t-1})\n",
    "    enc_mean_v, enc_std_v = encoder(x[t], y[t], h_t)\n",
    "    print('enc_mean: ', enc_mean_v.shape)\n",
    "    print('enc_std: ', enc_std_v.shape)\n",
    "    z_t = _reparameterized_sample(enc_mean_v, enc_std_v)\n",
    "    print('z_t: ', z_t.shape)\n",
    "    # # Decoder p(x_t | z_t, y_t, h_{t-1})\n",
    "    dec_mean_, dec_std_ = decoder(z_t, y[t], h_t)\n",
    "    # # Loss\n",
    "    kld_loss_l = _kld_gauss(enc_mean_v, enc_std_v, prior_zt_mean, prior_zt_std)\n",
    "    rec_loss_l = _rec_gauss(x[t], dec_mean_, dec_std_)\n",
    "    print('kld_loss_l: ', kld_loss_l)\n",
    "    print('rec_loss_l: ', rec_loss_l)\n",
    "    y_loss_u = _kld_cat(p_yt, q_yt)\n",
    "    print('y_loss_u: ', y_loss_u)\n",
    "    # y_loss_l = _nll_ber(p_yt, y[t].float())\n",
    "    # print('y_loss_l: ', y_loss_l)\n",
    "    rnn_input = torch.cat([y[t], z_t, x[t-1]], 0)[None, :]\n",
    "    print('rnn_input: ', rnn_input.size())\n",
    "    print('h_t: ', h_t.unsqueeze(0).size())\n",
    "    # h_t = torch.zeros(h_dim)\n",
    "    h_t = rnn(rnn_input, h_t[None,:])\n",
    "    \n",
    "      "
   ]
  },
  {
   "attachments": {},
   "cell_type": "markdown",
   "metadata": {},
   "source": [
    "## General Settings"
   ]
  },
  {
   "cell_type": "code",
   "execution_count": 402,
   "metadata": {},
   "outputs": [
    {
     "name": "stdout",
     "output_type": "stream",
     "text": [
      "Actual path to save our models for mnist is C:\\Users\\kmorales\\Desktop\\3th PhD\\PMM SImulations\\mnist \n"
     ]
    }
   ],
   "source": [
    "x_dim = 1\n",
    "y_dim = 1\n",
    "\n",
    "# Dimension of latent variables\n",
    "z_dim = 10\n",
    "h_dim = 20\n",
    "n_samples = 0\n",
    "n_layers = 1\n",
    "\n",
    "# Model settings\n",
    "learning_rate = 0.003  #0.001\n",
    "weight_decay_ = 1e-4\n",
    "n_layers =  1\n",
    "n_epochs = 100\n",
    "clip = 10\n",
    "#--------------------------------------------\n",
    "# Manual seed\n",
    "seed = 123\n",
    "torch.manual_seed(seed)\n",
    "#--------------------------------------------\n",
    "# Print settings\n",
    "print_every = 100\n",
    "#--------------------------------------------\n",
    "# Save models\n",
    "save_every = 5\n",
    "path_save = os.path.join(general_path, data)\n",
    "print(f'Actual path to save our models for {data} is {path_save} ')"
   ]
  },
  {
   "cell_type": "code",
   "execution_count": 481,
   "metadata": {},
   "outputs": [],
   "source": [
    "import numpy as np\n",
    "import torch\n",
    "from torch import nn\n",
    "from scipy.special import logsumexp\n",
    "import torch.distributions.normal as Norm\n",
    "import torch.distributions.kl as KL\n",
    "import torch.nn.functional as F\n",
    "from torch.distributions.bernoulli import Bernoulli\n",
    "import math\n",
    "EPS = torch.finfo(torch.float).eps \n",
    "c = - 0.5 * math.log(2*math.pi)\n",
    "class SeqModel(nn.Module):\n",
    "    def __init__(self, x_dim, z_dim, h_dim, n_layers, y_dim, device, n_samples, bias = False):\n",
    "        super(SeqModel, self).__init__()\n",
    "        self.x_dim = x_dim\n",
    "        self.z_dim = z_dim\n",
    "        self.h_dim = h_dim\n",
    "        self.device = device\n",
    "        self.y_dim = y_dim\n",
    "        self.n_samples = n_samples\n",
    "        self.Soft_threshold = nn.Sigmoid()\n",
    "\n",
    "        # Prior p(z_t | y_t, h_{t-1}) = N (μt, σt)\n",
    "        self.prior_z = nn.Sequential( nn.Linear(self.h_dim + self.y_dim, self.h_dim),\n",
    "                                  nn.ReLU())\n",
    "        \n",
    "        self.prior_z_mean = nn.Linear(self.h_dim, self.z_dim)\n",
    "        \n",
    "        self.prior_z_std = nn.Sequential( nn.Linear (self.h_dim, self.z_dim), \n",
    "                                    nn.Softplus())\n",
    "        \n",
    "        # Prior p(y_t | h_{t-1}) = Cat (θt) \n",
    "        # In this case, we use a linear layer to predict the logits of the categorical distribution\n",
    "        # We will use the sigmoid function to ensure that the logits are positive and only two classes\n",
    "        # it means a Bernoulli distribution.\n",
    "        self.prior_y = nn.Sequential( nn.Linear(self.h_dim, self.h_dim ),\n",
    "                                nn.ReLU(),\n",
    "                                nn.Linear(self.h_dim , self.h_dim ),\n",
    "                                nn.ReLU())\n",
    "        \n",
    "        self.prior_y_proba = nn.Sequential(nn.Linear(self.h_dim, self.h_dim ),\n",
    "                                      nn.ReLU(),\n",
    "                                      nn.Linear(self.h_dim, self.y_dim),\n",
    "                                      nn.Sigmoid())\n",
    "        \n",
    "        # q(y_t | x_t, h_{t-1}) = Cat (θt)\n",
    "        self.q_y = nn.Sequential( nn.Linear(self.x_dim + self.h_dim, self.h_dim ),\n",
    "                                nn.ReLU(),\n",
    "                                nn.Linear(self.h_dim , self.h_dim ),\n",
    "                                nn.ReLU())\n",
    "        \n",
    "        self.q_y_proba = nn.Sequential(nn.Linear(self.h_dim, self.h_dim ),\n",
    "                                      nn.ReLU(),\n",
    "                                      nn.Linear(self.h_dim, self.y_dim),\n",
    "                                      nn.Sigmoid())\n",
    "\n",
    "        \n",
    "        # Encoder\n",
    "        # q(z_t | x_t, y_t, h_{t-1}) = N (μt, σt)\n",
    "        self.enc = nn.Sequential( nn.Linear(self.h_dim + self.x_dim + self.y_dim, self.h_dim),\n",
    "                                nn.ReLU(),\n",
    "                                nn.Linear(self.h_dim, self.h_dim),\n",
    "                                nn.ReLU())\n",
    "        \n",
    "        self.enc_mean = nn.Linear(self.h_dim, self.z_dim)\n",
    "        self.enc_std = nn.Sequential( nn.Linear (self.h_dim, self.z_dim), \n",
    "                                    nn.Softplus())\n",
    "        \n",
    "        # Decoder\n",
    "        # p(x_t | z_t, y_t, h_{t-1}) = N (μt, σt)\n",
    "        self.dec = nn.Sequential( nn.Linear(self.h_dim + self.z_dim + self.y_dim, self.h_dim),\n",
    "                                nn.ReLU(),\n",
    "                                nn.Linear(self.h_dim, self.h_dim),\n",
    "                                nn.ReLU())\n",
    "        \n",
    "        self.dec_mean = nn.Linear(self.h_dim, self.x_dim)\n",
    "        self.dec_std = nn.Sequential( nn.Linear (self.h_dim, self.x_dim), \n",
    "                                    nn.Softplus())\n",
    "        # Recurrence\n",
    "        # Applies a multi-layer gated recurrent unit (GRU) RNN to an input sequence.\n",
    "        self.rnn = nn.RNNCell( self.x_dim + self.z_dim + self.y_dim, self.h_dim, bias, nonlinearity='tanh')#nn.GRU( h_dim + x_dim + z_dim + y_dim , h_dim, n_layers)\n",
    "\n",
    "\n",
    "    def encoder(self, x, y, h):\n",
    "        input_enc = torch.cat([x, y, h], 0)\n",
    "        enc = self.enc(input_enc)\n",
    "        enc_mean = self.enc_mean(enc)\n",
    "        enc_std = self.enc_std(enc)\n",
    "        return enc_mean, enc_std\n",
    "    \n",
    "    def decoder(self, z, y, h):\n",
    "        input_dec = torch.cat([z, y, h], 0)\n",
    "        dec = self.dec(input_dec)\n",
    "        dec_mean = self.dec_mean(dec)\n",
    "        dec_std = self.dec_std(dec)\n",
    "        return dec_mean, dec_std\n",
    "    \n",
    "    def get_cost_labeled(self, x, y, h):\n",
    "        # Prior p(z_t | y_t, h_{t-1})\n",
    "        input_pz =  torch.cat([y, h], 0)\n",
    "        prior_zt = self.prior_z(input_pz)\n",
    "        prior_zt_mean = self.prior_z_mean(prior_zt)\n",
    "        prior_zt_std = self.prior_z_std(prior_zt)\n",
    "        # Encoder q(z_t | x_t, y_t, h_{t-1})\n",
    "        enc_mean, enc_std = self.encoder(x, y, h)\n",
    "        z_t = self._reparameterized_sample(enc_mean, enc_std)\n",
    "        # Decoder p(x_t | z_t, y_t, h_{t-1})\n",
    "        dec_mean, dec_std = self.decoder(z_t, y, h)\n",
    "        # Loss\n",
    "        kld_loss_l = self._kld_gauss(enc_mean, enc_std, prior_zt_mean, prior_zt_std)\n",
    "        rec_loss_l = self._rec_gauss(x, dec_mean, dec_std)\n",
    "        \n",
    "        return kld_loss_l, rec_loss_l, z_t\n",
    "\n",
    "        \n",
    "    def forward(self, x, y):\n",
    "        h_t = torch.zeros(self.h_dim).to(self.device)\n",
    "        kld_loss_l = 0\n",
    "        rec_loss_l = 0\n",
    "        y_loss_l = 0\n",
    "\n",
    "        kld_loss_u = 0\n",
    "        rec_loss_u = 0\n",
    "        y_loss_u = 0\n",
    "        for t in range(x.size(0)):\n",
    "            # Prior p(y_t | h_{t-1})\n",
    "            p_yt = self.prior_y_proba(self.prior_y(h_t))            \n",
    "            if y[t] != -1:\n",
    "                kld_loss, rec_loss, z_t = self.get_cost_labeled(x[t], y[t], h_t)\n",
    "                kld_loss_l += kld_loss \n",
    "                rec_loss_l += rec_loss\n",
    "                y_loss_l += self._nll_ber(p_yt, y[t])\n",
    "            else:\n",
    "                # q(y_t | x_t, h_{t-1})\n",
    "                q_yt = self.q_y_proba(self.q_y(torch.cat([x[t], h_t], 0)))\n",
    "                # Sample y_t ~ q(y_t | x_t, h_{t-1})\n",
    "                y_t = self._reparameterized_sample_Gumbell(q_yt)\n",
    "                # loss\n",
    "                kld_loss, rec_loss, z_t = self.get_cost_labeled(x[t], y_t, h_t)\n",
    "                kld_loss_u += kld_loss\n",
    "                rec_loss_u += rec_loss\n",
    "                y_loss_u += self._kld_cat(p_yt, q_yt)\n",
    "            # Recurrent h_t = f(h_{t-1}, y_t, z_t, x_{t-1})\n",
    "            if t==0:\n",
    "                h_t = self.rnn(torch.cat([y[t], z_t, 0*x[t-1]], 0)[None, :], h_t[None, :]).squeeze(0)\n",
    "            else:\n",
    "                h_t = self.rnn(torch.cat([y[t], z_t, x[t-1]], 0)[None, :], h_t[None, :]).squeeze(0)\n",
    "        return kld_loss_l, rec_loss_l, y_loss_l, kld_loss_u, rec_loss_u, y_loss_u\n",
    "        \n",
    "\n",
    "    def _nll_ber(self, mean, x):\n",
    "        nll_loss = F.binary_cross_entropy(mean, x, reduction='sum')\n",
    "        return nll_loss\n",
    "    \n",
    "    # def _nll_gauss(self, mean, std, x):\n",
    "    #     return torch.sum(torch.log(std + EPS) + torch.log(2*torch.pi)/2 + (x - mean).pow(2)/(2*std.pow(2)))\n",
    "\n",
    "    def _rec_gauss(self, x, mean, std):\n",
    "        rec_loss = torch.sum(c + torch.log(std) + (x - mean)**2 / (2 * std**2))\n",
    "        return rec_loss\n",
    "    \n",
    "    def _kld_gauss(self, mean_1, std_1, mean_2, std_2):\n",
    "        norm_dis2 = Norm.Normal(mean_2, std_2)\n",
    "        norm_dis1 = Norm.Normal(mean_1, std_1)\n",
    "        kl_loss = torch.sum(KL.kl_divergence(norm_dis1, norm_dis2))\n",
    "        return    kl_loss\n",
    "    \n",
    "    def _kld_cat(self, q, p):\n",
    "        kl_loss = torch.sum(q * torch.log(q/p)+ (1-q) * torch.log((1-q)/(1-p)))\n",
    "        return kl_loss\n",
    "    \n",
    "    def reset_parameters(self, stdv = 0.1):\n",
    "        for weight in self.parameters():\n",
    "            weight.normal_(0, stdv)\n",
    "            #weight.data.normal_(0, stdv)\n",
    "            \n",
    "    # Extra functions \n",
    "    def _init_weights(self, stdv):\n",
    "        pass\n",
    "    \n",
    "    def _reparameterized_sample(self, mean, std):\n",
    "        \"\"\"using std to sample\"\"\"\n",
    "        eps = torch.FloatTensor(std.size()).normal_()\n",
    "        #eps = Variable(eps)\n",
    "        return eps.mul(std).add_(mean)\n",
    "    \n",
    "    def _reparameterized_sample_Gumbell(self, mean):\n",
    "        \"\"\"using std to sample\"\"\"\n",
    "        #eps = torch.FloatTensor(mean.size()).uniform()\n",
    "        eps = eps = torch.rand(mean.size()) \n",
    "        #eps = Variable(eps)\n",
    "        value = torch.log(eps) - torch.log(1-eps) + torch.log(mean) - torch.log(1-mean)\n",
    "        return self.Soft_threshold(value)\n",
    "    \n",
    "    def sample(self, x, y):\n",
    "        '''\n",
    "        Complete image\n",
    "        '''\n",
    "        h_t = torch.zeros(self.h_dim).to(self.device)\n",
    "        y_complete = y.clone()\n",
    "        for t in range(x.size(0)):          \n",
    "            if y[t] != -1:\n",
    "                enc_mean, enc_std = self.encoder(x[t], y[t], h_t)\n",
    "                z_t = self._reparameterized_sample(enc_mean, enc_std)\n",
    "            else:                \n",
    "                q_yt = self.q_y_proba(self.q_y(torch.cat([x[t], h_t], 0)))\n",
    "                l_x_t = Bernoulli(q_yt)\n",
    "                y_t = l_x_t.sample() \n",
    "                #print(y_t)\n",
    "                y_complete[t] = y_t.item()                \n",
    "                enc_mean, enc_std = self.encoder(x[t], y[t], h_t)\n",
    "                z_t = self._reparameterized_sample(enc_mean, enc_std)\n",
    "                \n",
    "            if t==0:\n",
    "                h_t = self.rnn(torch.cat([y[t], z_t, 0*x[t-1]], 0)[None, :], h_t[None, :]).squeeze(0)\n",
    "            else:\n",
    "                h_t = self.rnn(torch.cat([y[t], z_t, x[t-1]], 0)[None, :], h_t[None, :]).squeeze(0)\n",
    "        return y_complete\n",
    "    \n",
    "    "
   ]
  },
  {
   "cell_type": "code",
   "execution_count": 482,
   "metadata": {},
   "outputs": [],
   "source": [
    "model = SeqModel(x_dim, z_dim, h_dim, n_layers, y_dim, device, n_samples)\n",
    "optimizer = torch.optim.Adam(model.parameters(), lr=learning_rate, weight_decay= weight_decay_)\n",
    "# print(summary(model))"
   ]
  },
  {
   "cell_type": "code",
   "execution_count": 533,
   "metadata": {},
   "outputs": [],
   "source": [
    "size = 28\n",
    "idx = 1520\n",
    "x  = x_y_train[idx][0].reshape(size*size, 1)\n",
    "y = x_y_train[idx][1].reshape(size*size, 1)\n",
    "x = torch.tensor(x, dtype=torch.float32)\n",
    "y = torch.tensor(y, dtype=torch.float32)"
   ]
  },
  {
   "cell_type": "code",
   "execution_count": 483,
   "metadata": {},
   "outputs": [],
   "source": [
    "def run_model_seq(x, y,model,optimizer,clip, path_save_model, n_epochs , device,save_every=5):\n",
    "    train_LOSS = []\n",
    "    path_save = os.path.join(path_save_model, model.__class__.__name__.casefold() +'_state_')\n",
    "    print('The model is saved in this path', os.path.join(path_save_model, model.__class__.__name__.casefold()))\n",
    "    for epoch in range(1, n_epochs + 1):\n",
    "        #training \n",
    "        kld_loss_l, rec_loss_l, y_loss_l, kld_loss_u, rec_loss_u, y_loss_u = model(x,y)\n",
    "        loss_l = kld_loss_l + rec_loss_l + y_loss_l\n",
    "        loss_u = kld_loss_u + rec_loss_u + y_loss_u        \n",
    "        loss = loss_l + loss_u\n",
    "        loss.backward()\n",
    "        nn.utils.clip_grad_norm(model.parameters(), clip)\n",
    "        optimizer.step()\n",
    "        train_LOSS.append(loss.item())\n",
    "        #saving model\n",
    "        if epoch % save_every == 0:\n",
    "            print('Loss Labeled: {:.6f} \\t Loss Unlabeled: {:.6f}'.format(\n",
    "                    loss_l.item(), loss_u.item()))     \n",
    "            # print('\\n kdl_loss_l: {:.4f} \\t rec_loss_l: {:.4f} \\t y_loss_l: {:.4f}'.format(kld_loss_l.item(), rec_loss_l.item(), y_loss_l.item()))\n",
    "            # print('\\n kdl_loss_u: {:.4f} \\t rec_loss_u: {:.4f} \\t y_loss_u: {:.4f}'.format(kld_loss_u.item(), rec_loss_u.item(), y_loss_u.item()))\n",
    "            fn = path_save+str(epoch)+'.pth'\n",
    "            torch.save({\n",
    "                        'epoch': epoch,\n",
    "                        'model_state_dict': model.state_dict(),\n",
    "                        'optimizer_state_dict': optimizer.state_dict(),\n",
    "                        'loss': loss.item(),\n",
    "                        }, fn)\n",
    "            #torch.save(model.state_dict(), fn)\n",
    "            # print('Saved model to '+fn)\n",
    "            np.save(path_save+'train_'+str(epoch)+'.npy', train_LOSS)     \n",
    "    return train_LOSS"
   ]
  },
  {
   "cell_type": "code",
   "execution_count": 450,
   "metadata": {},
   "outputs": [
    {
     "name": "stdout",
     "output_type": "stream",
     "text": [
      "The model is saved in this path C:\\Users\\kmorales\\Desktop\\3th PhD\\PMM SImulations\\mnist\\seqmodel\n"
     ]
    },
    {
     "name": "stderr",
     "output_type": "stream",
     "text": [
      "<ipython-input-448-7a8b06f81398>:12: UserWarning: torch.nn.utils.clip_grad_norm is now deprecated in favor of torch.nn.utils.clip_grad_norm_.\n",
      "  nn.utils.clip_grad_norm(model.parameters(), clip)\n"
     ]
    },
    {
     "name": "stdout",
     "output_type": "stream",
     "text": [
      "Loss Labeled: -442.004211 \t Loss Unlabeled: -391.683624\n",
      "Loss Labeled: -486.769592 \t Loss Unlabeled: -386.897034\n",
      "Loss Labeled: -510.642212 \t Loss Unlabeled: -394.558685\n",
      "Loss Labeled: -539.694458 \t Loss Unlabeled: -408.817200\n",
      "Loss Labeled: -580.172241 \t Loss Unlabeled: -387.373535\n",
      "Loss Labeled: -619.223267 \t Loss Unlabeled: -380.237610\n",
      "Loss Labeled: -640.079956 \t Loss Unlabeled: -380.742432\n",
      "Loss Labeled: -646.418457 \t Loss Unlabeled: -411.804321\n",
      "Loss Labeled: -659.017578 \t Loss Unlabeled: -435.564240\n",
      "Loss Labeled: -666.295044 \t Loss Unlabeled: -428.880219\n",
      "Loss Labeled: -667.960205 \t Loss Unlabeled: -448.443756\n",
      "Loss Labeled: -672.292908 \t Loss Unlabeled: -410.919891\n",
      "Loss Labeled: -668.016602 \t Loss Unlabeled: -445.140411\n",
      "Loss Labeled: -680.937866 \t Loss Unlabeled: -448.449188\n",
      "Loss Labeled: -677.561890 \t Loss Unlabeled: -440.298309\n",
      "Loss Labeled: -686.622192 \t Loss Unlabeled: -433.543701\n",
      "Loss Labeled: -681.107788 \t Loss Unlabeled: -414.163910\n",
      "Loss Labeled: -682.037842 \t Loss Unlabeled: -447.596375\n",
      "Loss Labeled: -694.365540 \t Loss Unlabeled: -438.998260\n",
      "Loss Labeled: -683.742798 \t Loss Unlabeled: -428.354065\n"
     ]
    }
   ],
   "source": [
    "loss = run_model_seq(x, y,model,optimizer,clip, path_save, n_epochs , device,save_every=5)"
   ]
  },
  {
   "cell_type": "code",
   "execution_count": 484,
   "metadata": {},
   "outputs": [],
   "source": [
    "def final_model(model, optimizer, epoch_model, path_save, data,print_loss =True):\n",
    "    print('Actual  path for to initialize our models: ', path_save)\n",
    "    path = os.path.join(path_save, model.__class__.__name__.casefold()+'_state_'+str(epoch_model)+'.pth') \n",
    "    print(path)\n",
    "    checkpoint = torch.load(path)\n",
    "    print(f'Initialization of the {model.__class__.__name__} model  at epoch {epoch_model}')\n",
    "\n",
    "    model.load_state_dict(checkpoint['model_state_dict'])\n",
    "    optimizer.load_state_dict(checkpoint['optimizer_state_dict'])\n",
    "    epoch = checkpoint['epoch']\n",
    "    loss = checkpoint['loss']\n",
    "    if print_loss:\n",
    "        print(f'loss: {loss} and epoch: {epoch}')\n",
    "    return model"
   ]
  },
  {
   "cell_type": "code",
   "execution_count": 485,
   "metadata": {},
   "outputs": [
    {
     "name": "stdout",
     "output_type": "stream",
     "text": [
      "Actual  path for to initialize our models:  C:\\Users\\kmorales\\Desktop\\3th PhD\\PMM SImulations\\mnist\n",
      "C:\\Users\\kmorales\\Desktop\\3th PhD\\PMM SImulations\\mnist\\seqmodel_state_100.pth\n",
      "Initialization of the SeqModel model  at epoch 100\n",
      "loss: -1112.096923828125 and epoch: 100\n"
     ]
    }
   ],
   "source": [
    "#-----------------------------------------------------\n",
    "model = SeqModel(x_dim, z_dim, h_dim, n_layers, y_dim, device, n_samples)\n",
    "epoch_model = 100\n",
    "#-----------------------------------------------------\n",
    "model = final_model(model, optimizer, epoch_model, path_save, data)"
   ]
  },
  {
   "cell_type": "code",
   "execution_count": 523,
   "metadata": {},
   "outputs": [],
   "source": [
    "def creation_noisy_image(img, mu, sigma,p,  size = 28, complex = False):\n",
    "    '''\n",
    "    image: image of size 28*28\n",
    "    Binary mask: 0 if the pixel is the background, 1 otherwise (part of the number)\n",
    "    \n",
    "    chain: chain of the image (Hilbert curve) which is a vector of size size*size \n",
    "    z =  N(0, 1) # random variable wich\n",
    "    x = z* N(mu, sigma)\n",
    "\n",
    "    return:\n",
    "    image_x: image with noise (28*28)\n",
    "    label_miss: input image with missing labels (28*28)\n",
    "    '''\n",
    "    # We use np.pad to add a border of 0 to the image and increase the size to 32*32 beacause:\n",
    "    # 1D sequence <-> image, using an hilbert curve requires the sequence have length equal to a --power of 2--    \n",
    "    # This is not a general solution, but it works for the MNIST dataset\n",
    "    image = np.pad(img.reshape(size, size), ((2,2), (2,2)), 'constant')\n",
    "    chain = image_to_chain(image)\n",
    "    # More complex noisy image\n",
    "    # mu*(chain[i]) is the mean of the normal distribution and it changes for each pixel with respect to the label at that pixel\n",
    "    if complex:\n",
    "        z = np.random.normal(size = len(chain))\n",
    "        x = np.array([  z[i]*np.random.normal(mu*(chain[i]), sigma, 1) for i in range(len(chain)) ])\n",
    "    else:\n",
    "        x = np.array([np.random.normal(mu*(chain[i]), sigma, 1) for i in range(len(chain)) ])\n",
    "    \n",
    "     # In order to recuperate the original image we need to remove the first 2 and last 2 elements of the chain\n",
    "    image_x = chain_to_image(x)[2:(2+size), 2:(2+size)]\n",
    "    mask_missing = np.random.choice([0,1], size=(size, size), p=[p, 1-p])\n",
    "    label_miss = img.reshape(size, size).copy()\n",
    "    label_miss[mask_missing==0] = -1\n",
    "    return [image_x, label_miss]"
   ]
  },
  {
   "cell_type": "code",
   "execution_count": 536,
   "metadata": {},
   "outputs": [
    {
     "data": {
      "image/png": "[encoded data removed]",
      "text/plain": [
       "<Figure size 432x288 with 1 Axes>"
      ]
     },
     "metadata": {
      "needs_background": "light"
     },
     "output_type": "display_data"
    },
    {
     "data": {
      "image/png": "[encoded data removed]",
      "text/plain": [
       "<Figure size 432x288 with 1 Axes>"
      ]
     },
     "metadata": {
      "needs_background": "light"
     },
     "output_type": "display_data"
    },
    {
     "data": {
      "image/png": "[encoded data removed]",
      "text/plain": [
       "<Figure size 432x288 with 1 Axes>"
      ]
     },
     "metadata": {
      "needs_background": "light"
     },
     "output_type": "display_data"
    },
    {
     "data": {
      "image/png": "[encoded data removed]",
      "text/plain": [
       "<Figure size 432x288 with 1 Axes>"
      ]
     },
     "metadata": {
      "needs_background": "light"
     },
     "output_type": "display_data"
    }
   ],
   "source": [
    "y_ = model.sample(x,y)\n",
    "image_complete = y_.detach().numpy().reshape(28,28)\n",
    "image_complete[size-1,size-1] = -1\n",
    "image_labeled = trainX[idx].reshape(28,28)\n",
    "image_labeled[size-1,size-1] = -1\n",
    "plt.imshow(x.detach().numpy().reshape(28,28))\n",
    "plt.show()\n",
    "plt.imshow(image_complete)\n",
    "plt.show()\n",
    "plt.imshow(image_labeled)\n",
    "plt.show()\n",
    "\n",
    "plt.imshow(y.detach().numpy().reshape(28,28))\n",
    "plt.show()\n"
   ]
  },
  {
   "cell_type": "code",
   "execution_count": 532,
   "metadata": {},
   "outputs": [
    {
     "name": "stderr",
     "output_type": "stream",
     "text": [
      "<ipython-input-532-2489bd117577>:9: UserWarning: To copy construct from a tensor, it is recommended to use sourceTensor.clone().detach() or sourceTensor.clone().detach().requires_grad_(True), rather than torch.tensor(sourceTensor).\n",
      "  x1 = torch.tensor(x1, dtype=torch.float32)\n",
      "<ipython-input-532-2489bd117577>:10: UserWarning: To copy construct from a tensor, it is recommended to use sourceTensor.clone().detach() or sourceTensor.clone().detach().requires_grad_(True), rather than torch.tensor(sourceTensor).\n",
      "  y1 = torch.tensor(y1, dtype=torch.float32)\n"
     ]
    },
    {
     "data": {
      "image/png": "[encoded data removed]",
      "text/plain": [
       "<Figure size 432x288 with 1 Axes>"
      ]
     },
     "metadata": {
      "needs_background": "light"
     },
     "output_type": "display_data"
    },
    {
     "data": {
      "image/png": "[encoded data removed]",
      "text/plain": [
       "<Figure size 432x288 with 1 Axes>"
      ]
     },
     "metadata": {
      "needs_background": "light"
     },
     "output_type": "display_data"
    },
    {
     "data": {
      "image/png": "[encoded data removed]",
      "text/plain": [
       "<Figure size 432x288 with 1 Axes>"
      ]
     },
     "metadata": {
      "needs_background": "light"
     },
     "output_type": "display_data"
    },
    {
     "data": {
      "image/png": "[encoded data removed]",
      "text/plain": [
       "<Figure size 432x288 with 1 Axes>"
      ]
     },
     "metadata": {
      "needs_background": "light"
     },
     "output_type": "display_data"
    }
   ],
   "source": [
    "p = 0.65\n",
    "complex = True\n",
    "size = 28\n",
    "idx = 480\n",
    "x1, y1 = creation_noisy_image(trainX[idx], mu, sigma,p,  size = 28, complex = complex)\n",
    "x1 = torch.tensor(x1.reshape(size*size, 1), dtype=torch.float32)\n",
    "y1 = torch.tensor(y1.reshape(size*size, 1), dtype=torch.float32)\n",
    "\n",
    "x1 = torch.tensor(x1, dtype=torch.float32)\n",
    "y1 = torch.tensor(y1, dtype=torch.float32)\n",
    "\n",
    "y1_ = model.sample(x1,y1)\n",
    "image_complete = y1_.detach().numpy().reshape(28,28)\n",
    "image_labeled = trainX[idx].reshape(28,28)\n",
    "image_labeled[size-1,size-1] = -1\n",
    "image_complete[size-1,size-1] = -1\n",
    "plt.imshow(x1.detach().numpy().reshape(28,28), cmap='gray')\n",
    "plt.show()\n",
    "plt.imshow(image_complete, cmap='gray')\n",
    "plt.show()\n",
    "plt.imshow(image_labeled, cmap='gray')\n",
    "plt.show()\n",
    "plt.imshow(y1.detach().numpy().reshape(28,28), cmap='gray')\n",
    "plt.show()\n"
   ]
  },
  {
   "cell_type": "code",
   "execution_count": null,
   "metadata": {},
   "outputs": [],
   "source": []
  },
  {
   "attachments": {},
   "cell_type": "markdown",
   "metadata": {},
   "source": []
  },
  {
   "attachments": {},
   "cell_type": "markdown",
   "metadata": {},
   "source": [
    "# Generative Models\n",
    "based on https://github.com/emited/VariationalRecurrentNeuralNetwork"
   ]
  },
  {
   "cell_type": "code",
   "execution_count": null,
   "metadata": {},
   "outputs": [],
   "source": [
    "from utils.utils import *"
   ]
  },
  {
   "cell_type": "code",
   "execution_count": 70,
   "metadata": {},
   "outputs": [
    {
     "name": "stdout",
     "output_type": "stream",
     "text": [
      "torch.Size([28, 128, 28])\n",
      "torch.Size([28, 128, 28])\n"
     ]
    }
   ],
   "source": [
    "#--------------------------------------------\n",
    "# img = True images of 28*28 (generative model)\n",
    "# img = False  images of 1*784 (seq case)\n",
    "img = True\n",
    "if img:\n",
    "    trainX = dim_image(trainX)\n",
    "    testX = dim_image(testX)\n",
    "\n",
    "batch_sz = 128\n",
    "\n",
    "train_loader, test_loader = analysis(trainX,testX,batch_sz)\n",
    "train_loader_elbo, test_loader_elbo = analysis(trainX,testX,1)\n",
    "\n",
    "for batch_idx, data_s in enumerate(train_loader):\n",
    "    if batch_idx <2:\n",
    "        data_s = data_s.to(device)\n",
    "        data_s = data_s.float()\n",
    "        if img:\n",
    "            data_s = data_s.transpose(0, 1)\n",
    "        else:\n",
    "            data_s = data_s.transpose(0, 1).unsqueeze(2)\n",
    "        print(data_s.shape)"
   ]
  },
  {
   "attachments": {},
   "cell_type": "markdown",
   "metadata": {},
   "source": [
    "## General Settings"
   ]
  },
  {
   "cell_type": "code",
   "execution_count": null,
   "metadata": {},
   "outputs": [],
   "source": [
    "#--------------------------------------------\n",
    "music = True\n",
    "if music:\n",
    "    x_dim = 88    \n",
    "else:\n",
    "    x_dim = 1\n",
    "\n",
    "# Dimension of latent variables\n",
    "z_dim = 300\n",
    "px_dim = 100\n",
    "pz_dim = 100\n",
    "qz_dim = 500 \n",
    "h_dim_vrnn = 300 #initial h_dim for VRNN for the next models this values will be changed\n",
    "\n",
    "# Model settings\n",
    "learning_rate = 0.003  #0.001\n",
    "weight_decay_ = 1e-4\n",
    "n_samples = 100\n",
    "n_layers =  1\n",
    "n_epochs = 100\n",
    "clip = 10\n",
    "#--------------------------------------------\n",
    "# Manual seed\n",
    "seed = 123\n",
    "torch.manual_seed(seed)\n",
    "#--------------------------------------------\n",
    "# Print settings\n",
    "print_every = 100\n",
    "#--------------------------------------------\n",
    "# Save models\n",
    "save_every = 5\n",
    "path_save = os.path.join(general_path, data)\n",
    "print(f'Actual path to save our models for {data} is {path_save} ')\n"
   ]
  },
  {
   "attachments": {},
   "cell_type": "markdown",
   "metadata": {},
   "source": [
    "## HMM\n"
   ]
  },
  {
   "cell_type": "code",
   "execution_count": 19,
   "metadata": {},
   "outputs": [
    {
     "name": "stdout",
     "output_type": "stream",
     "text": [
      "=================================================================\n",
      "Layer (type:depth-idx)                   Param #\n",
      "=================================================================\n",
      "├─Identity: 1-1                          --\n",
      "├─Identity: 1-2                          --\n",
      "├─Sequential: 1-3                        --\n",
      "|    └─Linear: 2-1                       42,500\n",
      "|    └─ReLU: 2-2                         --\n",
      "├─Linear: 1-4                            42,824\n",
      "├─Sequential: 1-5                        --\n",
      "|    └─Linear: 2-3                       42,824\n",
      "|    └─Softplus: 2-4                     --\n",
      "├─Sequential: 1-6                        --\n",
      "|    └─Linear: 2-5                       256,500\n",
      "|    └─ReLU: 2-6                         --\n",
      "├─Linear: 1-7                            212,424\n",
      "├─Sequential: 1-8                        --\n",
      "|    └─Linear: 2-7                       212,424\n",
      "|    └─Softplus: 2-8                     --\n",
      "├─Sequential: 1-9                        --\n",
      "|    └─Linear: 2-9                       42,500\n",
      "|    └─ReLU: 2-10                        --\n",
      "├─Sequential: 1-10                       --\n",
      "|    └─Linear: 2-11                      8,888\n",
      "|    └─Sigmoid: 2-12                     --\n",
      "├─Sequential: 1-11                       --\n",
      "|    └─Linear: 2-13                      8,888\n",
      "|    └─Softmax: 2-14                     --\n",
      "=================================================================\n",
      "Total params: 869,772\n",
      "Trainable params: 869,772\n",
      "Non-trainable params: 0\n",
      "=================================================================\n",
      "=================================================================\n",
      "Layer (type:depth-idx)                   Param #\n",
      "=================================================================\n",
      "├─Identity: 1-1                          --\n",
      "├─Identity: 1-2                          --\n",
      "├─Sequential: 1-3                        --\n",
      "|    └─Linear: 2-1                       42,500\n",
      "|    └─ReLU: 2-2                         --\n",
      "├─Linear: 1-4                            42,824\n",
      "├─Sequential: 1-5                        --\n",
      "|    └─Linear: 2-3                       42,824\n",
      "|    └─Softplus: 2-4                     --\n",
      "├─Sequential: 1-6                        --\n",
      "|    └─Linear: 2-5                       256,500\n",
      "|    └─ReLU: 2-6                         --\n",
      "├─Linear: 1-7                            212,424\n",
      "├─Sequential: 1-8                        --\n",
      "|    └─Linear: 2-7                       212,424\n",
      "|    └─Softplus: 2-8                     --\n",
      "├─Sequential: 1-9                        --\n",
      "|    └─Linear: 2-9                       42,500\n",
      "|    └─ReLU: 2-10                        --\n",
      "├─Sequential: 1-10                       --\n",
      "|    └─Linear: 2-11                      8,888\n",
      "|    └─Sigmoid: 2-12                     --\n",
      "├─Sequential: 1-11                       --\n",
      "|    └─Linear: 2-13                      8,888\n",
      "|    └─Softmax: 2-14                     --\n",
      "=================================================================\n",
      "Total params: 869,772\n",
      "Trainable params: 869,772\n",
      "Non-trainable params: 0\n",
      "=================================================================\n"
     ]
    }
   ],
   "source": [
    "z_dim = 424\n",
    "learning_rate = 0.005  #only for HMM model\n",
    "#--------------------------------------------\n",
    "# Model\n",
    "model = HMM(x_dim, z_dim, px_dim, pz_dim, qz_dim, n_layers).to(device)\n",
    "optimizer = torch.optim.Adam(model.parameters(), lr=learning_rate, weight_decay= weight_decay_)\n",
    "print(summary(model))"
   ]
  },
  {
   "cell_type": "code",
   "execution_count": 20,
   "metadata": {},
   "outputs": [
    {
     "name": "stdout",
     "output_type": "stream",
     "text": [
      "The model is saved in this path C:\\Users\\kmorales\\Desktop\\3th PhD\\PMM SImulations\\jsb\\hmm\n"
     ]
    },
    {
     "name": "stderr",
     "output_type": "stream",
     "text": [
      "c:\\Users\\kmorales\\Anaconda3\\lib\\site-packages\\torch\\nn\\modules\\container.py:117: UserWarning: Implicit dimension choice for softmax has been deprecated. Change the call to include dim=X as an argument.\n",
      "  input = module(input)\n",
      "c:\\Users\\kmorales\\Desktop\\3th PhD\\PMM SImulations\\utils\\utils.py:29: UserWarning: torch.nn.utils.clip_grad_norm is now deprecated in favor of torch.nn.utils.clip_grad_norm_.\n",
      "  nn.utils.clip_grad_norm(model.parameters(), clip)\n"
     ]
    },
    {
     "name": "stdout",
     "output_type": "stream",
     "text": [
      "Train Epoch: 1 [0/272 (0%)]\t KLD Loss: 4002.454834 \t NLL Loss: 6196.631836\n",
      "\n",
      "Train> Epoch: 1 average -ELBO: 4155.5080\n",
      "====> Test set loss: -ELBO 1337.7329, KLD Loss = 105.3312, NLL Loss = 1232.4018 \n",
      "Train Epoch: 2 [0/272 (0%)]\t KLD Loss: 103.397324 \t NLL Loss: 1288.330322\n",
      "\n",
      "Train> Epoch: 2 average -ELBO: 1262.4395\n",
      "====> Test set loss: -ELBO 1176.5438, KLD Loss = 17.2943, NLL Loss = 1159.2496 \n",
      "Train Epoch: 3 [0/272 (0%)]\t KLD Loss: 17.534153 \t NLL Loss: 1177.902222\n",
      "\n",
      "Train> Epoch: 3 average -ELBO: 1165.9901\n",
      "====> Test set loss: -ELBO 1136.1891, KLD Loss = 8.7617, NLL Loss = 1127.4274 \n",
      "Train Epoch: 4 [0/272 (0%)]\t KLD Loss: 9.842326 \t NLL Loss: 1145.813965\n",
      "\n",
      "Train> Epoch: 4 average -ELBO: 1142.0048\n",
      "====> Test set loss: -ELBO 1126.3244, KLD Loss = 7.5954, NLL Loss = 1118.7290 \n",
      "Train Epoch: 5 [0/272 (0%)]\t KLD Loss: 8.988995 \t NLL Loss: 1139.162476\n",
      "\n",
      "Train> Epoch: 5 average -ELBO: 1134.0994\n",
      "====> Test set loss: -ELBO 1114.2999, KLD Loss = 10.3206, NLL Loss = 1103.9793 \n",
      "Saved model to C:\\Users\\kmorales\\Desktop\\3th PhD\\PMM SImulations\\jsb\\hmm_state_5.pth\n",
      "Train Epoch: 6 [0/272 (0%)]\t KLD Loss: 11.914947 \t NLL Loss: 1120.157227\n",
      "\n",
      "Train> Epoch: 6 average -ELBO: 1126.5683\n",
      "====> Test set loss: -ELBO 1104.7138, KLD Loss = 19.2834, NLL Loss = 1085.4304 \n",
      "Train Epoch: 7 [0/272 (0%)]\t KLD Loss: 21.558914 \t NLL Loss: 1101.209961\n",
      "\n",
      "Train> Epoch: 7 average -ELBO: 1112.1432\n",
      "====> Test set loss: -ELBO 1089.2839, KLD Loss = 35.8942, NLL Loss = 1053.3897 \n",
      "Train Epoch: 8 [0/272 (0%)]\t KLD Loss: 38.647762 \t NLL Loss: 1067.494141\n",
      "\n",
      "Train> Epoch: 8 average -ELBO: 1100.7838\n",
      "====> Test set loss: -ELBO 1080.4402, KLD Loss = 40.9752, NLL Loss = 1039.4650 \n",
      "Train Epoch: 9 [0/272 (0%)]\t KLD Loss: 43.678265 \t NLL Loss: 1055.326538\n",
      "\n",
      "Train> Epoch: 9 average -ELBO: 1094.9438\n",
      "====> Test set loss: -ELBO 1071.8993, KLD Loss = 40.1951, NLL Loss = 1031.7042 \n",
      "Train Epoch: 10 [0/272 (0%)]\t KLD Loss: 40.981529 \t NLL Loss: 1047.822266\n",
      "\n",
      "Train> Epoch: 10 average -ELBO: 1087.2335\n",
      "====> Test set loss: -ELBO 1071.8932, KLD Loss = 38.3064, NLL Loss = 1033.5868 \n",
      "Saved model to C:\\Users\\kmorales\\Desktop\\3th PhD\\PMM SImulations\\jsb\\hmm_state_10.pth\n",
      "Train Epoch: 11 [0/272 (0%)]\t KLD Loss: 40.574635 \t NLL Loss: 1052.782104\n",
      "\n",
      "Train> Epoch: 11 average -ELBO: 1085.9835\n",
      "====> Test set loss: -ELBO 1067.2171, KLD Loss = 40.8340, NLL Loss = 1026.3832 \n",
      "Train Epoch: 12 [0/272 (0%)]\t KLD Loss: 42.017925 \t NLL Loss: 1044.166504\n",
      "\n",
      "Train> Epoch: 12 average -ELBO: 1082.1966\n",
      "====> Test set loss: -ELBO 1065.0667, KLD Loss = 40.6469, NLL Loss = 1024.4197 \n",
      "Train Epoch: 13 [0/272 (0%)]\t KLD Loss: 39.145226 \t NLL Loss: 1039.139160\n",
      "\n",
      "Train> Epoch: 13 average -ELBO: 1081.9311\n",
      "====> Test set loss: -ELBO 1063.5261, KLD Loss = 42.2523, NLL Loss = 1021.2738 \n",
      "Train Epoch: 14 [0/272 (0%)]\t KLD Loss: 42.316757 \t NLL Loss: 1035.984009\n",
      "\n",
      "Train> Epoch: 14 average -ELBO: 1077.3225\n",
      "====> Test set loss: -ELBO 1058.5552, KLD Loss = 42.0662, NLL Loss = 1016.4891 \n",
      "Train Epoch: 15 [0/272 (0%)]\t KLD Loss: 43.018009 \t NLL Loss: 1034.730957\n",
      "\n",
      "Train> Epoch: 15 average -ELBO: 1076.0686\n",
      "====> Test set loss: -ELBO 1056.8036, KLD Loss = 43.4864, NLL Loss = 1013.3171 \n",
      "Saved model to C:\\Users\\kmorales\\Desktop\\3th PhD\\PMM SImulations\\jsb\\hmm_state_15.pth\n",
      "Train Epoch: 16 [0/272 (0%)]\t KLD Loss: 42.167534 \t NLL Loss: 1030.464355\n",
      "\n",
      "Train> Epoch: 16 average -ELBO: 1074.4918\n",
      "====> Test set loss: -ELBO 1052.0894, KLD Loss = 49.2491, NLL Loss = 1002.8404 \n",
      "Train Epoch: 17 [0/272 (0%)]\t KLD Loss: 48.753166 \t NLL Loss: 1024.201904\n",
      "\n",
      "Train> Epoch: 17 average -ELBO: 1070.1612\n",
      "====> Test set loss: -ELBO 1045.1761, KLD Loss = 54.3905, NLL Loss = 990.7855 \n",
      "Train Epoch: 18 [0/272 (0%)]\t KLD Loss: 52.946400 \t NLL Loss: 1014.561890\n",
      "\n",
      "Train> Epoch: 18 average -ELBO: 1062.5822\n",
      "====> Test set loss: -ELBO 1034.5127, KLD Loss = 62.8338, NLL Loss = 971.6789 \n",
      "Train Epoch: 19 [0/272 (0%)]\t KLD Loss: 62.878231 \t NLL Loss: 1001.753784\n",
      "\n",
      "Train> Epoch: 19 average -ELBO: 1057.1393\n",
      "====> Test set loss: -ELBO 1029.2191, KLD Loss = 73.2887, NLL Loss = 955.9304 \n",
      "Train Epoch: 20 [0/272 (0%)]\t KLD Loss: 70.641800 \t NLL Loss: 978.595947\n",
      "\n",
      "Train> Epoch: 20 average -ELBO: 1049.0020\n",
      "====> Test set loss: -ELBO 1024.8349, KLD Loss = 79.9103, NLL Loss = 944.9246 \n",
      "Saved model to C:\\Users\\kmorales\\Desktop\\3th PhD\\PMM SImulations\\jsb\\hmm_state_20.pth\n",
      "Train Epoch: 21 [0/272 (0%)]\t KLD Loss: 77.608490 \t NLL Loss: 968.982239\n",
      "\n",
      "Train> Epoch: 21 average -ELBO: 1044.3203\n",
      "====> Test set loss: -ELBO 1020.7487, KLD Loss = 82.6967, NLL Loss = 938.0520 \n",
      "Train Epoch: 22 [0/272 (0%)]\t KLD Loss: 80.344666 \t NLL Loss: 963.237000\n",
      "\n",
      "Train> Epoch: 22 average -ELBO: 1039.3654\n",
      "====> Test set loss: -ELBO 1011.6403, KLD Loss = 90.1185, NLL Loss = 921.5219 \n",
      "Train Epoch: 23 [0/272 (0%)]\t KLD Loss: 87.481529 \t NLL Loss: 943.489319\n",
      "\n",
      "Train> Epoch: 23 average -ELBO: 1032.3633\n",
      "====> Test set loss: -ELBO 1011.0715, KLD Loss = 96.4539, NLL Loss = 914.6176 \n",
      "Train Epoch: 24 [0/272 (0%)]\t KLD Loss: 93.479813 \t NLL Loss: 935.238281\n",
      "\n",
      "Train> Epoch: 24 average -ELBO: 1025.3440\n",
      "====> Test set loss: -ELBO 999.8766, KLD Loss = 104.7066, NLL Loss = 895.1699 \n",
      "Train Epoch: 25 [0/272 (0%)]\t KLD Loss: 106.059425 \t NLL Loss: 924.265564\n",
      "\n",
      "Train> Epoch: 25 average -ELBO: 1018.1489\n",
      "====> Test set loss: -ELBO 995.7669, KLD Loss = 113.0829, NLL Loss = 882.6840 \n",
      "Saved model to C:\\Users\\kmorales\\Desktop\\3th PhD\\PMM SImulations\\jsb\\hmm_state_25.pth\n",
      "Train Epoch: 26 [0/272 (0%)]\t KLD Loss: 112.688049 \t NLL Loss: 912.724243\n",
      "\n",
      "Train> Epoch: 26 average -ELBO: 1012.3327\n",
      "====> Test set loss: -ELBO 990.7116, KLD Loss = 108.5329, NLL Loss = 882.1787 \n",
      "Train Epoch: 27 [0/272 (0%)]\t KLD Loss: 107.905678 \t NLL Loss: 904.651917\n",
      "\n",
      "Train> Epoch: 27 average -ELBO: 1009.2120\n",
      "====> Test set loss: -ELBO 989.0532, KLD Loss = 112.0852, NLL Loss = 876.9680 \n",
      "Train Epoch: 28 [0/272 (0%)]\t KLD Loss: 113.317139 \t NLL Loss: 897.454834\n",
      "\n",
      "Train> Epoch: 28 average -ELBO: 1005.8514\n",
      "====> Test set loss: -ELBO 988.8102, KLD Loss = 111.5699, NLL Loss = 877.2404 \n",
      "Train Epoch: 29 [0/272 (0%)]\t KLD Loss: 110.190422 \t NLL Loss: 897.750610\n",
      "\n",
      "Train> Epoch: 29 average -ELBO: 1005.4340\n",
      "====> Test set loss: -ELBO 988.8924, KLD Loss = 118.7095, NLL Loss = 870.1829 \n",
      "Train Epoch: 30 [0/272 (0%)]\t KLD Loss: 121.756332 \t NLL Loss: 891.826904\n",
      "\n",
      "Train> Epoch: 30 average -ELBO: 1004.4292\n",
      "====> Test set loss: -ELBO 985.7623, KLD Loss = 116.8768, NLL Loss = 868.8855 \n",
      "Saved model to C:\\Users\\kmorales\\Desktop\\3th PhD\\PMM SImulations\\jsb\\hmm_state_30.pth\n",
      "Train Epoch: 31 [0/272 (0%)]\t KLD Loss: 116.396454 \t NLL Loss: 886.243835\n",
      "\n",
      "Train> Epoch: 31 average -ELBO: 1002.5551\n",
      "====> Test set loss: -ELBO 986.1242, KLD Loss = 119.8520, NLL Loss = 866.2723 \n",
      "Train Epoch: 32 [0/272 (0%)]\t KLD Loss: 123.308060 \t NLL Loss: 894.575012\n",
      "\n",
      "Train> Epoch: 32 average -ELBO: 1005.2936\n",
      "====> Test set loss: -ELBO 980.8708, KLD Loss = 121.4406, NLL Loss = 859.4301 \n",
      "Train Epoch: 33 [0/272 (0%)]\t KLD Loss: 121.804626 \t NLL Loss: 879.693481\n",
      "\n",
      "Train> Epoch: 33 average -ELBO: 1001.0599\n",
      "====> Test set loss: -ELBO 985.4949, KLD Loss = 120.2413, NLL Loss = 865.2536 \n",
      "Train Epoch: 34 [0/272 (0%)]\t KLD Loss: 123.894798 \t NLL Loss: 884.158142\n",
      "\n",
      "Train> Epoch: 34 average -ELBO: 1001.7105\n",
      "====> Test set loss: -ELBO 981.5996, KLD Loss = 119.2642, NLL Loss = 862.3354 \n",
      "Train Epoch: 35 [0/272 (0%)]\t KLD Loss: 123.258110 \t NLL Loss: 884.334717\n",
      "\n",
      "Train> Epoch: 35 average -ELBO: 998.5201\n",
      "====> Test set loss: -ELBO 978.2044, KLD Loss = 119.9386, NLL Loss = 858.2658 \n",
      "Saved model to C:\\Users\\kmorales\\Desktop\\3th PhD\\PMM SImulations\\jsb\\hmm_state_35.pth\n",
      "Train Epoch: 36 [0/272 (0%)]\t KLD Loss: 122.022385 \t NLL Loss: 888.905823\n",
      "\n",
      "Train> Epoch: 36 average -ELBO: 996.8695\n",
      "====> Test set loss: -ELBO 977.1199, KLD Loss = 123.7660, NLL Loss = 853.3539 \n",
      "Train Epoch: 37 [0/272 (0%)]\t KLD Loss: 127.110161 \t NLL Loss: 874.392029\n",
      "\n",
      "Train> Epoch: 37 average -ELBO: 998.6521\n",
      "====> Test set loss: -ELBO 980.3270, KLD Loss = 124.4522, NLL Loss = 855.8748 \n",
      "Train Epoch: 38 [0/272 (0%)]\t KLD Loss: 127.652054 \t NLL Loss: 876.377563\n",
      "\n",
      "Train> Epoch: 38 average -ELBO: 999.9718\n",
      "====> Test set loss: -ELBO 978.2044, KLD Loss = 126.4165, NLL Loss = 851.7879 \n",
      "Train Epoch: 39 [0/272 (0%)]\t KLD Loss: 130.323364 \t NLL Loss: 870.126831\n",
      "\n",
      "Train> Epoch: 39 average -ELBO: 998.3085\n",
      "====> Test set loss: -ELBO 978.8699, KLD Loss = 121.6908, NLL Loss = 857.1791 \n",
      "Train Epoch: 40 [0/272 (0%)]\t KLD Loss: 126.867195 \t NLL Loss: 875.875671\n",
      "\n",
      "Train> Epoch: 40 average -ELBO: 994.9533\n",
      "====> Test set loss: -ELBO 975.1055, KLD Loss = 124.3433, NLL Loss = 850.7622 \n",
      "Saved model to C:\\Users\\kmorales\\Desktop\\3th PhD\\PMM SImulations\\jsb\\hmm_state_40.pth\n",
      "Train Epoch: 41 [0/272 (0%)]\t KLD Loss: 125.978668 \t NLL Loss: 865.084412\n",
      "\n",
      "Train> Epoch: 41 average -ELBO: 995.6790\n",
      "====> Test set loss: -ELBO 978.6182, KLD Loss = 125.1897, NLL Loss = 853.4286 \n",
      "Train Epoch: 42 [0/272 (0%)]\t KLD Loss: 128.022598 \t NLL Loss: 871.957031\n"
     ]
    }
   ],
   "source": [
    "train_LOSS_1, test_LOSS_1 = run_model(train_loader,test_loader,model,optimizer,batch_sz,clip, path_save, n_epochs ,print_every, music, save_every)"
   ]
  },
  {
   "cell_type": "code",
   "execution_count": 13,
   "metadata": {},
   "outputs": [],
   "source": [
    "# #--------------------------------------------\n",
    "# # Copy from this part to the end of the code\n",
    "# #--------------------------------------------\n",
    "# optimizer = torch.optim.Adam(model.parameters(), lr=learning_rate, weight_decay= weight_decay_)\n",
    "# print(summary(model))\n",
    "# #-----------------------------------------------------\n",
    "# # Train the model\n",
    "# #-----------------------------------------------------\n",
    "# train_LOSS_2, test_LOSS_2 = run_model(train_loader,test_loader,model,optimizer,batch_sz,clip, path_save, n_epochs ,print_every, music, save_every)\n",
    "\n",
    "#-----------------------------------------------------\n",
    "# Initialization of the model\n",
    "#-----------------------------------------------------\n",
    "epoch_model = 100\n",
    "# Last models= True : Epochs saved in 2021\n",
    "model = final_model(model, optimizer, epoch_model, path_save, data, print_loss =True, last_models = False)\n",
    "elb, lpx = ELBO(test_loader_elbo, model, n_samples, path_save, music, save_info= False)\n",
    "print(np.mean(elb))\n",
    "print(np.mean(lpx))\n",
    "# =>i:0, mean ELBO = -2075.6604, App. mean Log = -2016.8858 \n",
    "# =>i:0, ELBO = -2075.6604, App. Log = -2016.8858 "
   ]
  },
  {
   "attachments": {},
   "cell_type": "markdown",
   "metadata": {},
   "source": [
    "## VRNN\n",
    "\n",
    "https://github.com/marcofraccaro/srnn\n",
    "\n",
    "https://github.com/clinicalml/structuredinference/blob/master/parse_args_dkf.py\n",
    "\n",
    "https://github.com/jych/nips2015_vrnn/blob/master/models/iamondb/vrnn_gauss.py"
   ]
  },
  {
   "cell_type": "code",
   "execution_count": 7,
   "metadata": {},
   "outputs": [
    {
     "name": "stdout",
     "output_type": "stream",
     "text": [
      "=================================================================\n",
      "Layer (type:depth-idx)                   Param #\n",
      "=================================================================\n",
      "├─Identity: 1-1                          --\n",
      "├─Identity: 1-2                          --\n",
      "├─Sequential: 1-3                        --\n",
      "|    └─Linear: 2-1                       30,100\n",
      "|    └─ReLU: 2-2                         --\n",
      "├─Linear: 1-4                            30,300\n",
      "├─Sequential: 1-5                        --\n",
      "|    └─Linear: 2-3                       30,300\n",
      "|    └─Softplus: 2-4                     --\n",
      "├─Sequential: 1-6                        --\n",
      "|    └─Linear: 2-5                       194,500\n",
      "|    └─ReLU: 2-6                         --\n",
      "├─Linear: 1-7                            150,300\n",
      "├─Sequential: 1-8                        --\n",
      "|    └─Linear: 2-7                       150,300\n",
      "|    └─Softplus: 2-8                     --\n",
      "├─Sequential: 1-9                        --\n",
      "|    └─Linear: 2-9                       60,100\n",
      "|    └─ReLU: 2-10                        --\n",
      "├─Sequential: 1-10                       --\n",
      "|    └─Linear: 2-11                      8,888\n",
      "|    └─Sigmoid: 2-12                     --\n",
      "├─Sequential: 1-11                       --\n",
      "|    └─Linear: 2-13                      8,888\n",
      "|    └─Softmax: 2-14                     --\n",
      "├─RNNCell: 1-12                          206,400\n",
      "=================================================================\n",
      "Total params: 870,076\n",
      "Trainable params: 870,076\n",
      "Non-trainable params: 0\n",
      "=================================================================\n",
      "=================================================================\n",
      "Layer (type:depth-idx)                   Param #\n",
      "=================================================================\n",
      "├─Identity: 1-1                          --\n",
      "├─Identity: 1-2                          --\n",
      "├─Sequential: 1-3                        --\n",
      "|    └─Linear: 2-1                       30,100\n",
      "|    └─ReLU: 2-2                         --\n",
      "├─Linear: 1-4                            30,300\n",
      "├─Sequential: 1-5                        --\n",
      "|    └─Linear: 2-3                       30,300\n",
      "|    └─Softplus: 2-4                     --\n",
      "├─Sequential: 1-6                        --\n",
      "|    └─Linear: 2-5                       194,500\n",
      "|    └─ReLU: 2-6                         --\n",
      "├─Linear: 1-7                            150,300\n",
      "├─Sequential: 1-8                        --\n",
      "|    └─Linear: 2-7                       150,300\n",
      "|    └─Softplus: 2-8                     --\n",
      "├─Sequential: 1-9                        --\n",
      "|    └─Linear: 2-9                       60,100\n",
      "|    └─ReLU: 2-10                        --\n",
      "├─Sequential: 1-10                       --\n",
      "|    └─Linear: 2-11                      8,888\n",
      "|    └─Sigmoid: 2-12                     --\n",
      "├─Sequential: 1-11                       --\n",
      "|    └─Linear: 2-13                      8,888\n",
      "|    └─Softmax: 2-14                     --\n",
      "├─RNNCell: 1-12                          206,400\n",
      "=================================================================\n",
      "Total params: 870,076\n",
      "Trainable params: 870,076\n",
      "Non-trainable params: 0\n",
      "=================================================================\n"
     ]
    }
   ],
   "source": [
    "h_dim = h_dim_vrnn\n",
    "#--------------------------------------------\n",
    "# Model\n",
    "model = VRNN(x_dim, h_dim, z_dim, px_dim, pz_dim, qz_dim, n_layers).to(device)\n",
    "optimizer = torch.optim.Adam(model.parameters(), lr=learning_rate, weight_decay= weight_decay_)\n",
    "print(summary(model))"
   ]
  },
  {
   "cell_type": "code",
   "execution_count": null,
   "metadata": {
    "scrolled": true
   },
   "outputs": [],
   "source": [
    "train_LOSS_1, test_LOSS_1 = run_model(train_loader,test_loader,model,optimizer,batch_sz,clip, path_save, n_epochs ,print_every, music, save_every)"
   ]
  },
  {
   "attachments": {},
   "cell_type": "markdown",
   "metadata": {},
   "source": [
    "### Initialization of a trained model "
   ]
  },
  {
   "cell_type": "code",
   "execution_count": null,
   "metadata": {},
   "outputs": [],
   "source": [
    "#-----------------------------------------------------\n",
    "model = VRNN(x_dim, h_dim, z_dim, px_dim, pz_dim, qz_dim, n_layers).to(device)\n",
    "epoch_model = 100\n",
    "# Last models= True : Epochs saved in 2021\n",
    "#-----------------------------------------------------\n",
    "model = final_model(model, optimizer, epoch_model, path_save, data, print_loss =True, last_models = True)"
   ]
  },
  {
   "cell_type": "code",
   "execution_count": null,
   "metadata": {
    "scrolled": true
   },
   "outputs": [],
   "source": [
    "# # We can continue training\n",
    "# train_LOSS_1, test_LOSS_1 = run_model(train_loader,test_loader,model,optimizer,batch_sz,clip, path_save, n_epochs ,print_every, music, save_every)"
   ]
  },
  {
   "attachments": {},
   "cell_type": "markdown",
   "metadata": {},
   "source": [
    "### ELBO approximation\n",
    "We use the test data set and the final model, so the previous step is important\n",
    "\n",
    "```model = final_model(model, optimizer, epoch_model, path_save, data, print_loss =True, last_models = True)```"
   ]
  },
  {
   "cell_type": "code",
   "execution_count": null,
   "metadata": {},
   "outputs": [],
   "source": [
    "elb, lpx = ELBO(test_loader_elbo, model, n_samples, path_save, music, save_info= False)\n",
    "print(np.mean(elb))\n",
    "print(np.mean(lpx))"
   ]
  },
  {
   "attachments": {},
   "cell_type": "markdown",
   "metadata": {},
   "source": [
    "## PCM\n",
    "### Calculation of h_dim\n",
    "We calculate this value in order to have a 'similar' number of parameter for each model"
   ]
  },
  {
   "cell_type": "code",
   "execution_count": null,
   "metadata": {},
   "outputs": [],
   "source": [
    "name_model = 'PCM'\n",
    "number_parameters(name_model, h_dim_vrnn, pz_dim, px_dim, qz_dim ,x_dim, z_dim)"
   ]
  },
  {
   "cell_type": "code",
   "execution_count": null,
   "metadata": {},
   "outputs": [],
   "source": [
    "h_dim = 294\n",
    "#--------------------------------------------\n",
    "# Model\n",
    "model = PCM(x_dim, h_dim, z_dim,px_dim, pz_dim, qz_dim, n_layers).to(device)\n",
    "#--------------------------------------------\n",
    "\n",
    "\n",
    "#--------------------------------------------\n",
    "# Copy from this part to the end of the code\n",
    "#--------------------------------------------\n",
    "optimizer = torch.optim.Adam(model.parameters(), lr=learning_rate, weight_decay= weight_decay_)\n",
    "print(summary(model))\n",
    "# #-----------------------------------------------------\n",
    "# # Train the model\n",
    "# #-----------------------------------------------------\n",
    "# train_LOSS_2, test_LOSS_2 = run_model(train_loader,test_loader,model,optimizer,batch_sz,clip, path_save, n_epochs ,print_every, music, save_every)\n",
    "\n",
    "# #-----------------------------------------------------\n",
    "# # Initialization of the model\n",
    "# #-----------------------------------------------------\n",
    "# epoch_model = 100\n",
    "# # Last models= True : Epochs saved in 2021\n",
    "# model = final_model(model, optimizer, epoch_model, path_save, data, print_loss =True, last_models = True)\n",
    "# elb, lpx = ELBO(test_loader_elbo, model, n_samples, path_save, music, save_info= False)\n",
    "# print(np.mean(elb))\n",
    "# print(np.mean(lpx))"
   ]
  },
  {
   "attachments": {},
   "cell_type": "markdown",
   "metadata": {},
   "source": [
    "## PCM_c"
   ]
  },
  {
   "cell_type": "code",
   "execution_count": null,
   "metadata": {},
   "outputs": [],
   "source": [
    "name_model = 'PCM_c'\n",
    "number_parameters(name_model, h_dim_vrnn, pz_dim, px_dim, qz_dim ,x_dim, z_dim)"
   ]
  },
  {
   "cell_type": "code",
   "execution_count": null,
   "metadata": {},
   "outputs": [],
   "source": [
    "# H dim\n",
    "h_dim = 278\n",
    "#--------------------------------------------\n",
    "# Model\n",
    "model = PCM_c(x_dim, h_dim, z_dim,px_dim, pz_dim, qz_dim, n_layers).to(device)\n",
    "\n"
   ]
  },
  {
   "attachments": {},
   "cell_type": "markdown",
   "metadata": {},
   "source": [
    "## PCM_c2"
   ]
  },
  {
   "cell_type": "code",
   "execution_count": null,
   "metadata": {},
   "outputs": [],
   "source": [
    "name_model = 'PMC_c2'\n",
    "number_parameters(name_model, h_dim_vrnn, pz_dim, px_dim, qz_dim ,x_dim, z_dim)\n"
   ]
  },
  {
   "cell_type": "code",
   "execution_count": null,
   "metadata": {},
   "outputs": [],
   "source": [
    "# H dim\n",
    "h_dim = 260\n",
    "#--------------------------------------------\n",
    "# Model\n",
    "model = PCM_c2(x_dim, h_dim, z_dim,px_dim, pz_dim, qz_dim, n_layers).to(device)"
   ]
  }
 ],
 "metadata": {
  "kernelspec": {
   "display_name": "base",
   "language": "python",
   "name": "python3"
  },
  "language_info": {
   "codemirror_mode": {
    "name": "ipython",
    "version": 3
   },
   "file_extension": ".py",
   "mimetype": "text/x-python",
   "name": "python",
   "nbconvert_exporter": "python",
   "pygments_lexer": "ipython3",
   "version": "3.8.5"
  },
  "vscode": {
   "interpreter": {
    "hash": "ad1b2571548246114fecf39d36c90373949ef600ffd6c7010bad9bfc5901cee0"
   }
  }
 },
 "nbformat": 4,
 "nbformat_minor": 4
}
