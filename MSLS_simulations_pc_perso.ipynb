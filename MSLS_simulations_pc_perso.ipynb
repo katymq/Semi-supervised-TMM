{
 "cells": [
  {
   "cell_type": "code",
   "execution_count": 1,
   "metadata": {},
   "outputs": [],
   "source": [
    "import os\n",
    "import pandas as pd\n",
    "import numpy as np\n",
    "import matplotlib.pyplot as plt\n",
    "import torch\n",
    "from torch import nn\n",
    "#from torchsummary import summary\n",
    "\n",
    "#-------------------------------\n",
    "# Change the name to create or load the data and models\n",
    "path = os.getcwd()\n",
    "folder_data = r'Data\\data_mlsp_semi'\n",
    "#-------------------------------\n"
   ]
  },
  {
   "cell_type": "markdown",
   "metadata": {},
   "source": [
    "## Read data"
   ]
  },
  {
   "cell_type": "code",
   "execution_count": 2,
   "metadata": {},
   "outputs": [],
   "source": [
    "x_list = []\n",
    "y_list = []\n",
    "\n",
    "for img in os.listdir(os.path.join(path, folder_data)):\n",
    "    if img.startswith('x'):\n",
    "        x_list.append(plt.imread(os.path.join(path, folder_data, img)))\n",
    "    if img.startswith('y') and not img.endswith('npy'):\n",
    "        y = plt.imread(os.path.join(path, folder_data, img))\n",
    "        y_list.append(y)\n",
    "# Load the created data \n",
    "y_list_40 = np.load(os.path.join(path, folder_data, 'y_miss_40.npy'))\n",
    "y_list_60 = np.load(os.path.join(path, folder_data, 'y_miss_60.npy'))\n",
    "y_list_80 = np.load(os.path.join(path, folder_data, 'y_miss_80.npy'))\n",
    "y_list_100 = np.load(os.path.join(path, folder_data, 'y_miss_100.npy'))"
   ]
  },
  {
   "cell_type": "code",
   "execution_count": 3,
   "metadata": {},
   "outputs": [],
   "source": [
    "\n",
    "# fig = plt.figure(figsize=(20, 30))  \n",
    "# rows = len(x_list)\n",
    "# columns = 6\n",
    "# m, n = x_list[0].shape\n",
    "\n",
    "\n",
    "# for i, (x,y, y1,y2,y3, y4) in enumerate(zip(x_list, y_list, y_list_40, y_list_60, y_list_80, y_list_100)):\n",
    "#     fig.add_subplot(rows, columns, columns*i+1)\n",
    "#     x[m-1, n-1] = -1\n",
    "#     plt.imshow(x, cmap='gray')\n",
    "#     plt.title('Image  idex {}'.format(i))\n",
    "#     #plt.axis('off')\n",
    "#     fig.add_subplot(rows, columns, columns*i+2)\n",
    "#     y[m-1, n-1] = -1\n",
    "#     plt.imshow(y, cmap='gray')\n",
    "#     #plt.axis('off')\n",
    "#     fig.add_subplot(rows, columns, columns*i+3)\n",
    "#     plt.imshow(y1, cmap='gray')\n",
    "#     #plt.axis('off')\n",
    "#     fig.add_subplot(rows, columns, columns*i+4)\n",
    "#     plt.imshow(y2, cmap='gray')\n",
    "#     #plt.axis('off')\n",
    "#     fig.add_subplot(rows, columns, columns*i+5)\n",
    "#     plt.imshow(y3, cmap='gray')\n",
    "#     #plt.axis('off')\n",
    "#     fig.add_subplot(rows, columns, columns*i+6)\n",
    "#     plt.imshow(y4, cmap='gray')\n",
    "\n"
   ]
  },
  {
   "cell_type": "markdown",
   "metadata": {},
   "source": [
    "## Data"
   ]
  },
  {
   "cell_type": "code",
   "execution_count": 4,
   "metadata": {},
   "outputs": [
    {
     "name": "stdout",
     "output_type": "stream",
     "text": [
      "cuda:0\n"
     ]
    }
   ],
   "source": [
    "#--------------------------------------------\n",
    "# 0: Vaquita girada\n",
    "# 1: Cow\n",
    "# 2: Human \n",
    "# 3: Horse\n",
    "# 4: Camel\n",
    "# 5: Dog1\n",
    "# 6: Dog2\n",
    "idx  = 1 # Id image\n",
    "p = 0.4 # percentage of missing labels\n",
    "names = ['bull', 'cow', 'human', 'horse', 'camel', 'dog1', 'dog2']\n",
    "name_image = names[idx]+str(int(p*100))\n",
    "#--------------------------------------------\n",
    "if torch.cuda.is_available():  \n",
    "    device = \"cuda:0\" \n",
    "else:  \n",
    "    device = \"cpu\"  \n",
    "print(device)\n"
   ]
  },
  {
   "cell_type": "code",
   "execution_count": 5,
   "metadata": {},
   "outputs": [],
   "source": [
    "m, n = x_list[idx].shape\n",
    "x1  = x_list[idx].reshape(m*n, 1)\n",
    "\n",
    "if p == 0.4:\n",
    "    y1 = y_list_40[idx].reshape(m*n, 1)\n",
    "elif p == 0.6:\n",
    "    y1 = y_list_60[idx].reshape(m*n, 1)\n",
    "elif p == 0.8:\n",
    "    y1 = y_list_80[idx].reshape(m*n, 1)\n",
    "elif p == 1:\n",
    "    y1 = y_list_100[idx].reshape(m*n, 1)\n",
    "#--------------------------------------------\n",
    "x = torch.tensor(x1, dtype=torch.float32)\n",
    "y = torch.tensor(y1, dtype=torch.float32)\n",
    "x = x.to(device)\n",
    "y = y.to(device)\n"
   ]
  },
  {
   "cell_type": "markdown",
   "metadata": {},
   "source": [
    "## Functions and models"
   ]
  },
  {
   "cell_type": "code",
   "execution_count": 6,
   "metadata": {},
   "outputs": [],
   "source": [
    "from models.SVRNN import SVRNN\n",
    "from models.SVRNN_2 import SVRNN_2\n",
    "from models.TMM import TMM\n",
    "from utils.training import final_model, run_model_seq"
   ]
  },
  {
   "cell_type": "markdown",
   "metadata": {},
   "source": [
    "## Results"
   ]
  },
  {
   "cell_type": "code",
   "execution_count": 6,
   "metadata": {},
   "outputs": [],
   "source": [
    "x_dim = 1\n",
    "y_dim = 1\n",
    "# Dimension of latent variables\n",
    "z_dim = 50#1\n",
    "h_dim = 30#20\n",
    "settings = \"_1\" # change it every time you have a new setting for the same image starts by \"\"\n",
    "num_neurons = h_dim\n",
    "# Model settings\n",
    "learning_rate = 0.005\n",
    "weight_decay_ = 1e-4\n",
    "n_epochs = 20\n",
    "clip = 10\n",
    "# Manual seed\n",
    "seed = 123\n",
    "torch.manual_seed(seed)\n",
    "# Print settings\n",
    "print_every = 1\n"
   ]
  },
  {
   "cell_type": "code",
   "execution_count": 7,
   "metadata": {},
   "outputs": [],
   "source": [
    "model = SVRNN_2(x_dim, z_dim, h_dim, y_dim, num_neurons, device)\n",
    "model.to(device)\n",
    "optimizer = torch.optim.Adam(model.parameters(), lr=learning_rate, weight_decay= weight_decay_)\n",
    "#print(summary(model))"
   ]
  },
  {
   "cell_type": "code",
   "execution_count": 8,
   "metadata": {},
   "outputs": [
    {
     "name": "stdout",
     "output_type": "stream",
     "text": [
      "Actual path to save our models for svrnn_2_cow40_1 is C:\\Users\\katyt\\Desktop\\PhD\\MLSP 2023\\Results_save_models\\svrnn_2_cow40_1 \n"
     ]
    }
   ],
   "source": [
    "#--------------------------------------------\n",
    "# Save models\n",
    "save_every = 2\n",
    "# general_path = r'C:\\Users\\kmorales\\Desktop\\3th PhD\\MLSP 2023\\Results_save_models' \n",
    "general_path = r\"C:\\Users\\katyt\\Desktop\\PhD\\MLSP 2023\\Results_save_models\"\n",
    "data = model.__class__.__name__.casefold()+'_'+name_image+settings\n",
    "path_save = os.path.join(general_path, data)\n",
    "if not os.path.exists(path_save):\n",
    "    os.makedirs(path_save)\n",
    "print(f'Actual path to save our models for {data} is {path_save} ')\n"
   ]
  },
  {
   "cell_type": "code",
   "execution_count": 27,
   "metadata": {
    "scrolled": true
   },
   "outputs": [
    {
     "name": "stdout",
     "output_type": "stream",
     "text": [
      "The model is saved in this path C:\\Users\\katyt\\Desktop\\PhD\\MLSP 2023\\Results_save_models\\svrnn_2_cow40_1\\svrnn_2\n"
     ]
    },
    {
     "name": "stderr",
     "output_type": "stream",
     "text": [
      "C:\\Users\\katyt\\Google Drive\\PhD\\Simulations_semi_super\\utils\\training.py:26: UserWarning: torch.nn.utils.clip_grad_norm is now deprecated in favor of torch.nn.utils.clip_grad_norm_.\n",
      "  nn.utils.clip_grad_norm(model.parameters(), clip)\n"
     ]
    },
    {
     "name": "stdout",
     "output_type": "stream",
     "text": [
      "Loss Labeled: 138296.656250 \t Loss Unlabeled: 72492.882812\n",
      "Loss Labeled: 79683.617188 \t Loss Unlabeled: 34526.605469\n",
      "Loss Labeled: 44212.039062 \t Loss Unlabeled: 11929.713867\n",
      "Loss Labeled: 20284.957031 \t Loss Unlabeled: -3448.621094\n",
      "Loss Labeled: 3345.421875 \t Loss Unlabeled: -14377.307617\n",
      "Loss Labeled: -8807.890625 \t Loss Unlabeled: -22254.128906\n",
      "Loss Labeled: -17770.101562 \t Loss Unlabeled: -28111.701172\n",
      "Loss Labeled: -25590.595703 \t Loss Unlabeled: -32954.074219\n",
      "Loss Labeled: -33496.046875 \t Loss Unlabeled: -37784.332031\n",
      "Loss Labeled: -42237.085938 \t Loss Unlabeled: -42818.136719\n",
      "Loss Labeled: -51200.839844 \t Loss Unlabeled: -48542.324219\n",
      "Loss Labeled: -56494.242188 \t Loss Unlabeled: -51975.511719\n",
      "Loss Labeled: -52282.015625 \t Loss Unlabeled: -49465.828125\n",
      "Loss Labeled: -41128.726562 \t Loss Unlabeled: -41228.597656\n",
      "Loss Labeled: -7730.113281 \t Loss Unlabeled: -19695.542969\n",
      "Loss Labeled: 345.304688 \t Loss Unlabeled: -12646.549805\n",
      "Loss Labeled: -27343.177734 \t Loss Unlabeled: -32122.146484\n",
      "Loss Labeled: -49220.976562 \t Loss Unlabeled: -46845.066406\n",
      "Loss Labeled: -60428.015625 \t Loss Unlabeled: -54440.093750\n",
      "Loss Labeled: -65715.484375 \t Loss Unlabeled: -57902.250000\n"
     ]
    }
   ],
   "source": [
    "loss = run_model_seq(x, y,model,optimizer,clip, path_save, n_epochs,save_every, print_every)"
   ]
  },
  {
   "cell_type": "code",
   "execution_count": 12,
   "metadata": {},
   "outputs": [
    {
     "name": "stdout",
     "output_type": "stream",
     "text": [
      "Actual  path for to initialize our models:  C:\\Users\\katyt\\Desktop\\PhD\\MLSP 2023\\Results_save_models\\svrnn_2_cow40_1\n",
      "C:\\Users\\katyt\\Desktop\\PhD\\MLSP 2023\\Results_save_models\\svrnn_2_cow40_1\\svrnn_2_state_60.pth\n",
      "Initialization of the SVRNN_2 model  at epoch 60\n",
      "loss: -150430.265625 and epoch: 60\n",
      "The model is saved in this path C:\\Users\\katyt\\Desktop\\PhD\\MLSP 2023\\Results_save_models\\svrnn_2_cow40_1\\svrnn_2\n"
     ]
    },
    {
     "name": "stderr",
     "output_type": "stream",
     "text": [
      "C:\\Users\\katyt\\Google Drive\\PhD\\Simulations_semi_super\\utils\\training.py:27: UserWarning: torch.nn.utils.clip_grad_norm is now deprecated in favor of torch.nn.utils.clip_grad_norm_.\n",
      "  nn.utils.clip_grad_norm(model.parameters(), clip)\n"
     ]
    },
    {
     "name": "stdout",
     "output_type": "stream",
     "text": [
      "Loss Labeled: -84363.250000 \t Loss Unlabeled: -62055.906250\n"
     ]
    },
    {
     "ename": "KeyboardInterrupt",
     "evalue": "",
     "output_type": "error",
     "traceback": [
      "\u001b[1;31m---------------------------------------------------------------------------\u001b[0m",
      "\u001b[1;31mKeyboardInterrupt\u001b[0m                         Traceback (most recent call last)",
      "\u001b[1;32m<ipython-input-12-80cd730d6f6f>\u001b[0m in \u001b[0;36m<module>\u001b[1;34m\u001b[0m\n\u001b[0;32m      7\u001b[0m \u001b[1;31m# #-----------------------------------------------------\u001b[0m\u001b[1;33m\u001b[0m\u001b[1;33m\u001b[0m\u001b[1;33m\u001b[0m\u001b[0m\n\u001b[0;32m      8\u001b[0m \u001b[0mmodel\u001b[0m \u001b[1;33m=\u001b[0m \u001b[0mfinal_model\u001b[0m\u001b[1;33m(\u001b[0m\u001b[0mmodel\u001b[0m\u001b[1;33m,\u001b[0m \u001b[0moptimizer\u001b[0m\u001b[1;33m,\u001b[0m \u001b[0mepoch_init\u001b[0m\u001b[1;33m,\u001b[0m \u001b[0mpath_save\u001b[0m\u001b[1;33m)\u001b[0m\u001b[1;33m\u001b[0m\u001b[1;33m\u001b[0m\u001b[0m\n\u001b[1;32m----> 9\u001b[1;33m \u001b[0mloss\u001b[0m \u001b[1;33m=\u001b[0m \u001b[0mrun_model_seq\u001b[0m\u001b[1;33m(\u001b[0m\u001b[0mx\u001b[0m\u001b[1;33m,\u001b[0m \u001b[0my\u001b[0m\u001b[1;33m,\u001b[0m\u001b[0mmodel\u001b[0m\u001b[1;33m,\u001b[0m\u001b[0moptimizer\u001b[0m\u001b[1;33m,\u001b[0m\u001b[0mclip\u001b[0m\u001b[1;33m,\u001b[0m \u001b[0mpath_save\u001b[0m\u001b[1;33m,\u001b[0m \u001b[0mn_epochs\u001b[0m\u001b[1;33m,\u001b[0m\u001b[0msave_every\u001b[0m\u001b[1;33m,\u001b[0m \u001b[0mprint_every\u001b[0m\u001b[1;33m,\u001b[0m \u001b[0mepoch_init\u001b[0m\u001b[1;33m)\u001b[0m\u001b[1;33m\u001b[0m\u001b[1;33m\u001b[0m\u001b[0m\n\u001b[0m",
      "\u001b[1;32m~\\Google Drive\\PhD\\Simulations_semi_super\\utils\\training.py\u001b[0m in \u001b[0;36mrun_model_seq\u001b[1;34m(x, y, model, optimizer, clip, path_save_model, n_epochs, save_every, print_every, epoch_init)\u001b[0m\n\u001b[0;32m     19\u001b[0m         \u001b[1;32melse\u001b[0m\u001b[1;33m:\u001b[0m\u001b[1;33m\u001b[0m\u001b[1;33m\u001b[0m\u001b[0m\n\u001b[0;32m     20\u001b[0m             \u001b[1;31m# 'svrnn_2' \"tmm\"\u001b[0m\u001b[1;33m\u001b[0m\u001b[1;33m\u001b[0m\u001b[1;33m\u001b[0m\u001b[0m\n\u001b[1;32m---> 21\u001b[1;33m             \u001b[0mkld_loss_l\u001b[0m\u001b[1;33m,\u001b[0m \u001b[0mrec_loss_l\u001b[0m\u001b[1;33m,\u001b[0m \u001b[0my_loss_l\u001b[0m\u001b[1;33m,\u001b[0m \u001b[0mkld_loss_u\u001b[0m\u001b[1;33m,\u001b[0m \u001b[0mrec_loss_u\u001b[0m\u001b[1;33m,\u001b[0m \u001b[0my_loss_u\u001b[0m\u001b[1;33m,\u001b[0m \u001b[0madd_term\u001b[0m\u001b[1;33m=\u001b[0m \u001b[0mmodel\u001b[0m\u001b[1;33m(\u001b[0m\u001b[0mx\u001b[0m\u001b[1;33m,\u001b[0m\u001b[0my\u001b[0m\u001b[1;33m)\u001b[0m\u001b[1;33m\u001b[0m\u001b[1;33m\u001b[0m\u001b[0m\n\u001b[0m\u001b[0;32m     22\u001b[0m             \u001b[0mloss_l\u001b[0m \u001b[1;33m=\u001b[0m \u001b[0mkld_loss_l\u001b[0m \u001b[1;33m+\u001b[0m \u001b[0mrec_loss_l\u001b[0m \u001b[1;33m+\u001b[0m \u001b[0my_loss_l\u001b[0m\u001b[1;33m\u001b[0m\u001b[1;33m\u001b[0m\u001b[0m\n\u001b[0;32m     23\u001b[0m             \u001b[0mloss_u\u001b[0m \u001b[1;33m=\u001b[0m \u001b[0mkld_loss_u\u001b[0m \u001b[1;33m+\u001b[0m \u001b[0mrec_loss_u\u001b[0m \u001b[1;33m+\u001b[0m \u001b[0my_loss_u\u001b[0m\u001b[1;33m\u001b[0m\u001b[1;33m\u001b[0m\u001b[0m\n",
      "\u001b[1;32m~\\Anaconda3\\envs\\PythonCPU\\lib\\site-packages\\torch\\nn\\modules\\module.py\u001b[0m in \u001b[0;36m__call__\u001b[1;34m(self, *input, **kwargs)\u001b[0m\n\u001b[0;32m    530\u001b[0m             \u001b[0mresult\u001b[0m \u001b[1;33m=\u001b[0m \u001b[0mself\u001b[0m\u001b[1;33m.\u001b[0m\u001b[0m_slow_forward\u001b[0m\u001b[1;33m(\u001b[0m\u001b[1;33m*\u001b[0m\u001b[0minput\u001b[0m\u001b[1;33m,\u001b[0m \u001b[1;33m**\u001b[0m\u001b[0mkwargs\u001b[0m\u001b[1;33m)\u001b[0m\u001b[1;33m\u001b[0m\u001b[1;33m\u001b[0m\u001b[0m\n\u001b[0;32m    531\u001b[0m         \u001b[1;32melse\u001b[0m\u001b[1;33m:\u001b[0m\u001b[1;33m\u001b[0m\u001b[1;33m\u001b[0m\u001b[0m\n\u001b[1;32m--> 532\u001b[1;33m             \u001b[0mresult\u001b[0m \u001b[1;33m=\u001b[0m \u001b[0mself\u001b[0m\u001b[1;33m.\u001b[0m\u001b[0mforward\u001b[0m\u001b[1;33m(\u001b[0m\u001b[1;33m*\u001b[0m\u001b[0minput\u001b[0m\u001b[1;33m,\u001b[0m \u001b[1;33m**\u001b[0m\u001b[0mkwargs\u001b[0m\u001b[1;33m)\u001b[0m\u001b[1;33m\u001b[0m\u001b[1;33m\u001b[0m\u001b[0m\n\u001b[0m\u001b[0;32m    533\u001b[0m         \u001b[1;32mfor\u001b[0m \u001b[0mhook\u001b[0m \u001b[1;32min\u001b[0m \u001b[0mself\u001b[0m\u001b[1;33m.\u001b[0m\u001b[0m_forward_hooks\u001b[0m\u001b[1;33m.\u001b[0m\u001b[0mvalues\u001b[0m\u001b[1;33m(\u001b[0m\u001b[1;33m)\u001b[0m\u001b[1;33m:\u001b[0m\u001b[1;33m\u001b[0m\u001b[1;33m\u001b[0m\u001b[0m\n\u001b[0;32m    534\u001b[0m             \u001b[0mhook_result\u001b[0m \u001b[1;33m=\u001b[0m \u001b[0mhook\u001b[0m\u001b[1;33m(\u001b[0m\u001b[0mself\u001b[0m\u001b[1;33m,\u001b[0m \u001b[0minput\u001b[0m\u001b[1;33m,\u001b[0m \u001b[0mresult\u001b[0m\u001b[1;33m)\u001b[0m\u001b[1;33m\u001b[0m\u001b[1;33m\u001b[0m\u001b[0m\n",
      "\u001b[1;32m~\\Google Drive\\PhD\\Simulations_semi_super\\models\\SVRNN.py\u001b[0m in \u001b[0;36mforward\u001b[1;34m(self, x, y)\u001b[0m\n",
      "\u001b[1;32m~\\Google Drive\\PhD\\Simulations_semi_super\\models\\SVRNN.py\u001b[0m in \u001b[0;36m_add_term_labeled\u001b[1;34m(self, y, q, p)\u001b[0m\n",
      "\u001b[1;32m~\\Anaconda3\\envs\\PythonCPU\\lib\\site-packages\\torch\\tensor.py\u001b[0m in \u001b[0;36m__rsub__\u001b[1;34m(self, other)\u001b[0m\n\u001b[0;32m    392\u001b[0m \u001b[1;33m\u001b[0m\u001b[0m\n\u001b[0;32m    393\u001b[0m     \u001b[1;32mdef\u001b[0m \u001b[0m__rsub__\u001b[0m\u001b[1;33m(\u001b[0m\u001b[0mself\u001b[0m\u001b[1;33m,\u001b[0m \u001b[0mother\u001b[0m\u001b[1;33m)\u001b[0m\u001b[1;33m:\u001b[0m\u001b[1;33m\u001b[0m\u001b[1;33m\u001b[0m\u001b[0m\n\u001b[1;32m--> 394\u001b[1;33m         \u001b[1;32mreturn\u001b[0m \u001b[0m_C\u001b[0m\u001b[1;33m.\u001b[0m\u001b[0m_VariableFunctions\u001b[0m\u001b[1;33m.\u001b[0m\u001b[0mrsub\u001b[0m\u001b[1;33m(\u001b[0m\u001b[0mself\u001b[0m\u001b[1;33m,\u001b[0m \u001b[0mother\u001b[0m\u001b[1;33m)\u001b[0m\u001b[1;33m\u001b[0m\u001b[1;33m\u001b[0m\u001b[0m\n\u001b[0m\u001b[0;32m    395\u001b[0m \u001b[1;33m\u001b[0m\u001b[0m\n\u001b[0;32m    396\u001b[0m     \u001b[1;32mdef\u001b[0m \u001b[0m__rdiv__\u001b[0m\u001b[1;33m(\u001b[0m\u001b[0mself\u001b[0m\u001b[1;33m,\u001b[0m \u001b[0mother\u001b[0m\u001b[1;33m)\u001b[0m\u001b[1;33m:\u001b[0m\u001b[1;33m\u001b[0m\u001b[1;33m\u001b[0m\u001b[0m\n",
      "\u001b[1;31mKeyboardInterrupt\u001b[0m: "
     ]
    }
   ],
   "source": [
    "# #-----------------------------------------------------\n",
    "model = SVRNN_2(x_dim, z_dim, h_dim, y_dim, num_neurons, device)\n",
    "model.to(device)\n",
    "epoch_init = 60\n",
    "n_epochs = 100\n",
    "optimizer = torch.optim.Adam(model.parameters(), lr=learning_rate, weight_decay= weight_decay_)\n",
    "# #-----------------------------------------------------\n",
    "model = final_model(model, optimizer, epoch_init, path_save)\n",
    "loss = run_model_seq(x, y,model,optimizer,clip, path_save, n_epochs,save_every, print_every, epoch_init)"
   ]
  },
  {
   "cell_type": "code",
   "execution_count": 10,
   "metadata": {},
   "outputs": [],
   "source": [
    "y_ = model.sample(x,y)"
   ]
  },
  {
   "cell_type": "code",
   "execution_count": 11,
   "metadata": {},
   "outputs": [
    {
     "data": {
      "text/plain": [
       "0.2966221644160514"
      ]
     },
     "execution_count": 11,
     "metadata": {},
     "output_type": "execute_result"
    }
   ],
   "source": [
    "from sklearn.metrics import accuracy_score\n",
    "y_pred = y_[np.where(y1 == -1)].detach().cpu().numpy()\n",
    "y_label = y_list[idx].reshape(m*n, 1)\n",
    "y_true = y_label[np.where(y1 == -1)]\n",
    "1-accuracy_score(y_true, y_pred)\n"
   ]
  },
  {
   "cell_type": "code",
   "execution_count": 7,
   "metadata": {},
   "outputs": [],
   "source": [
    "x_dim = 1\n",
    "y_dim = 1\n",
    "# Dimension of latent variables\n",
    "z_dim = 1\n",
    "h_dim = 20\n",
    "settings = \"\" # change it every time you have a new setting for the same image starts by \"\"\n",
    "num_neurons = h_dim\n",
    "# Model settings\n",
    "learning_rate = 0.005\n",
    "weight_decay_ = 1e-4\n",
    "n_epochs = 20\n",
    "clip = 10\n",
    "# Manual seed\n",
    "seed = 123\n",
    "torch.manual_seed(seed)\n",
    "# Print settings\n",
    "print_every = 1\n",
    "\n",
    "\n"
   ]
  },
  {
   "cell_type": "code",
   "execution_count": 8,
   "metadata": {},
   "outputs": [
    {
     "name": "stdout",
     "output_type": "stream",
     "text": [
      "Actual path to save our models for svrnn_2_cow40 is C:\\Users\\katyt\\Desktop\\PhD\\MLSP 2023\\Results_save_models\\svrnn_2_cow40 \n"
     ]
    }
   ],
   "source": [
    "# #-----------------------------------------------------\n",
    "model = SVRNN_2(x_dim, z_dim, h_dim, y_dim, num_neurons, device)\n",
    "model.to(device)\n",
    "#--------------------------------------------\n",
    "# Save models\n",
    "save_every = 2\n",
    "# general_path = r'C:\\Users\\kmorales\\Desktop\\3th PhD\\MLSP 2023\\Results_save_models' \n",
    "general_path = r\"C:\\Users\\katyt\\Desktop\\PhD\\MLSP 2023\\Results_save_models\"\n",
    "data = model.__class__.__name__.casefold()+'_'+name_image+settings\n",
    "path_save = os.path.join(general_path, data)\n",
    "print(f'Actual path to save our models for {data} is {path_save} ')\n"
   ]
  },
  {
   "cell_type": "code",
   "execution_count": 11,
   "metadata": {},
   "outputs": [
    {
     "name": "stdout",
     "output_type": "stream",
     "text": [
      "Actual  path for to initialize our models:  C:\\Users\\katyt\\Desktop\\PhD\\MLSP 2023\\Results_save_models\\svrnn_2_cow40\n",
      "C:\\Users\\katyt\\Desktop\\PhD\\MLSP 2023\\Results_save_models\\svrnn_2_cow40\\svrnn_2_state_100.pth\n",
      "Initialization of the SVRNN_2 model  at epoch 100\n",
      "loss: -170087.609375 and epoch: 100\n"
     ]
    }
   ],
   "source": [
    "epoch_init = 100\n",
    "n_epochs = 100\n",
    "optimizer = torch.optim.Adam(model.parameters(), lr=learning_rate, weight_decay= weight_decay_)\n",
    "# #-----------------------------------------------------\n",
    "model = final_model(model, optimizer, epoch_init, path_save, device)\n",
    "#loss = run_model_seq(x, y,model,optimizer,clip, path_save, n_epochs,save_every, print_every, epoch_init)"
   ]
  },
  {
   "cell_type": "code",
   "execution_count": 13,
   "metadata": {},
   "outputs": [
    {
     "data": {
      "text/plain": [
       "0.07509276615278682"
      ]
     },
     "execution_count": 13,
     "metadata": {},
     "output_type": "execute_result"
    }
   ],
   "source": [
    "y_ = model.sample(x,y)\n",
    "from sklearn.metrics import accuracy_score\n",
    "y_pred = y_[np.where(y1 == -1)].cpu().numpy()\n",
    "y_label = y_list[idx].reshape(m*n, 1)\n",
    "y_true = y_label[np.where(y1 == -1)]\n",
    "1-accuracy_score(y_true, y_pred)"
   ]
  },
  {
   "cell_type": "code",
   "execution_count": 16,
   "metadata": {},
   "outputs": [],
   "source": [
    "saving = r\"C:\\Users\\katyt\\Google Drive\\PhD\\Simulations_semi_super\\Results_images\""
   ]
  },
  {
   "cell_type": "code",
   "execution_count": 18,
   "metadata": {},
   "outputs": [],
   "source": [
    "np.save(os.path.join(saving, \"y_pred_cow40_svrnn2.npy\"), y_.cpu())"
   ]
  },
  {
   "cell_type": "code",
   "execution_count": 15,
   "metadata": {},
   "outputs": [
    {
     "data": {
      "text/plain": [
       "2"
      ]
     },
     "execution_count": 15,
     "metadata": {},
     "output_type": "execute_result"
    }
   ],
   "source": [
    "len(np.where(y1 == -1))"
   ]
  },
  {
   "cell_type": "code",
   "execution_count": 22,
   "metadata": {},
   "outputs": [
    {
     "data": {
      "text/plain": [
       "0.3988800048828125"
      ]
     },
     "execution_count": 22,
     "metadata": {},
     "output_type": "execute_result"
    }
   ],
   "source": [
    "len(np.where(y1 == -1)[0])/y1.shape[0]"
   ]
  },
  {
   "cell_type": "code",
   "execution_count": 18,
   "metadata": {},
   "outputs": [
    {
     "data": {
      "text/plain": [
       "(65536, 1)"
      ]
     },
     "execution_count": 18,
     "metadata": {},
     "output_type": "execute_result"
    }
   ],
   "source": [
    "y1.shape"
   ]
  },
  {
   "cell_type": "code",
   "execution_count": 23,
   "metadata": {},
   "outputs": [
    {
     "data": {
      "text/plain": [
       "<matplotlib.image.AxesImage at 0x12d2415e388>"
      ]
     },
     "execution_count": 23,
     "metadata": {},
     "output_type": "execute_result"
    },
    {
     "data": {
      "image/png": "[encoded data removed]",
      "text/plain": [
       "<Figure size 432x288 with 1 Axes>"
      ]
     },
     "metadata": {
      "needs_background": "light"
     },
     "output_type": "display_data"
    }
   ],
   "source": [
    "plt.imshow(y1.reshape(m,n))"
   ]
  },
  {
   "cell_type": "code",
   "execution_count": 24,
   "metadata": {},
   "outputs": [
    {
     "data": {
      "text/plain": [
       "<matplotlib.image.AxesImage at 0x12d241fd188>"
      ]
     },
     "execution_count": 24,
     "metadata": {},
     "output_type": "execute_result"
    },
    {
     "data": {
      "image/png": "[encoded data removed]",
      "text/plain": [
       "<Figure size 432x288 with 1 Axes>"
      ]
     },
     "metadata": {
      "needs_background": "light"
     },
     "output_type": "display_data"
    }
   ],
   "source": [
    "plt.imshow(y_list[idx].reshape(m,n))"
   ]
  },
  {
   "cell_type": "code",
   "execution_count": 27,
   "metadata": {},
   "outputs": [
    {
     "data": {
      "text/plain": [
       "<matplotlib.image.AxesImage at 0x12d29ae1a48>"
      ]
     },
     "execution_count": 27,
     "metadata": {},
     "output_type": "execute_result"
    },
    {
     "data": {
      "image/png": "[encoded data removed]",
      "text/plain": [
       "<Figure size 432x288 with 1 Axes>"
      ]
     },
     "metadata": {
      "needs_background": "light"
     },
     "output_type": "display_data"
    }
   ],
   "source": [
    "plt.imshow(y_.cpu().reshape(m,n))"
   ]
  },
  {
   "cell_type": "code",
   "execution_count": null,
   "metadata": {},
   "outputs": [],
   "source": []
  }
 ],
 "metadata": {
  "kernelspec": {
   "display_name": "Python 3",
   "language": "python",
   "name": "python3"
  },
  "language_info": {
   "codemirror_mode": {
    "name": "ipython",
    "version": 3
   },
   "file_extension": ".py",
   "mimetype": "text/x-python",
   "name": "python",
   "nbconvert_exporter": "python",
   "pygments_lexer": "ipython3",
   "version": "3.7.6"
  },
  "vscode": {
   "interpreter": {
    "hash": "ad1b2571548246114fecf39d36c90373949ef600ffd6c7010bad9bfc5901cee0"
   }
  }
 },
 "nbformat": 4,
 "nbformat_minor": 2
}
