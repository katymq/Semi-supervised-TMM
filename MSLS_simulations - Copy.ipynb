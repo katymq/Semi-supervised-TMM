{
 "cells": [
  {
   "cell_type": "markdown",
   "metadata": {},
   "source": [
    "# General Notebook"
   ]
  },
  {
   "cell_type": "code",
   "execution_count": null,
   "metadata": {},
   "outputs": [],
   "source": [
    "seed = 123\n",
    "import os\n",
    "from sklearn.metrics import accuracy_score\n",
    "import pandas as pd\n",
    "import numpy as np\n",
    "import matplotlib.pyplot as plt\n",
    "from torchsummary import summary\n",
    "import random\n",
    "import torch\n",
    "random.seed(seed)     # python random generator\n",
    "np.random.seed(seed)  # numpy random generator\n",
    "\n",
    "torch.manual_seed(seed)\n",
    "torch.cuda.manual_seed_all(seed)\n",
    "\n",
    "torch.backends.cudnn.deterministic = True\n",
    "torch.backends.cudnn.benchmark = False\n"
   ]
  },
  {
   "cell_type": "code",
   "execution_count": null,
   "metadata": {},
   "outputs": [],
   "source": [
    "\n",
    "# Change the name to create or load the data and models\n",
    "path = os.getcwd()\n",
    "folder_data = r'Data\\data_mlsp_semi'\n",
    "#-------------------------------\n",
    "if torch.cuda.is_available():  \n",
    "    device = \"cuda:0\" \n",
    "else:  \n",
    "    device = \"cpu\"  \n",
    "print(device)"
   ]
  },
  {
   "cell_type": "markdown",
   "metadata": {},
   "source": [
    "## Data"
   ]
  },
  {
   "cell_type": "code",
   "execution_count": null,
   "metadata": {},
   "outputs": [],
   "source": [
    "#--------------------------------------------\n",
    "# 0: Vaquita girada\n",
    "# 1: Cow     2: Human \n",
    "# 3: Horse   4: Camel\n",
    "# 5: Dog1    6: Dog2\n",
    "idx  = 1 # Id image\n",
    "p = 40 # porcentage of missing labels  options: [40, 60, 80, 100]\n",
    "names = ['bull', 'cow', 'human', 'horse', 'camel', 'dog1', 'dog2']\n",
    "name_image = names[idx]+str(p)\n",
    "print(name_image)"
   ]
  },
  {
   "cell_type": "code",
   "execution_count": null,
   "metadata": {},
   "outputs": [],
   "source": [
    "#!  Pay attention to idx when we read the data \n",
    "x1 = plt.imread(os.path.join(path, folder_data, 'x{}.png'.format(idx+1)))\n",
    "m, n = x1.shape\n",
    "y_true = plt.imread(os.path.join(path, folder_data, 'y{}.png'.format(idx+1))).reshape(m*n, 1)\n",
    "y1 =  np.load(os.path.join(path, folder_data, 'y_miss_{}.npy'.format(p)))[idx].reshape(m*n, 1)\n",
    "x = torch.tensor(x1.reshape(m*n, 1), dtype=torch.float32)\n",
    "y = torch.tensor(y1, dtype=torch.float32)\n",
    "x = x.to(device)\n",
    "y = y.to(device)"
   ]
  },
  {
   "cell_type": "code",
   "execution_count": null,
   "metadata": {},
   "outputs": [],
   "source": [
    "fig = plt.figure(figsize=(20, 30))  \n",
    "rows = 1\n",
    "columns = 3\n",
    "fig.add_subplot(rows, columns, 1)\n",
    "plt.imshow(x1, cmap='gray')\n",
    "fig.add_subplot(rows, columns, 2)\n",
    "plt.imshow(y1.reshape(m,n), cmap='gray')\n",
    "fig.add_subplot(rows, columns, 3)\n",
    "plt.imshow(y_true.reshape(m,n), cmap='gray')"
   ]
  },
  {
   "cell_type": "markdown",
   "metadata": {},
   "source": [
    "## Functions and models"
   ]
  },
  {
   "cell_type": "code",
   "execution_count": null,
   "metadata": {},
   "outputs": [],
   "source": [
    "from models.SVRNN import SVRNN\n",
    "from models.SVRNN_2 import SVRNN_2\n",
    "from models.VSL import VSL\n",
    "from models.TMM import TMM\n",
    "from utils.training import final_model, run_model_seq, num_param"
   ]
  },
  {
   "cell_type": "markdown",
   "metadata": {},
   "source": [
    "# Models"
   ]
  },
  {
   "cell_type": "code",
   "execution_count": null,
   "metadata": {},
   "outputs": [],
   "source": [
    "# General Parameters (we do not change the values of these parameters during the simulations)\n",
    "x_dim = 1\n",
    "y_dim = 1\n",
    "# Parameters for the models\n",
    "learning_rate = 0.005 # ! We can change this parameter but change the information in the sheet annotation\n",
    "weight_decay_ = 1e-4\n",
    "n_epochs = 100\n",
    "clip = 10\n",
    "# Parameters for printing and saving the results\n",
    "#! Change this path for your own path to save the results \n",
    "# general_path  = os.getcwd() #! this option for save the results in the same folder of the code\n",
    "general_path = r'C:\\Users\\kmorales\\Desktop\\3th PhD\\MLSP 2023\\Results_save_models' \n",
    "\n",
    "print_every = 1\n",
    "save_every = 2"
   ]
  },
  {
   "cell_type": "markdown",
   "metadata": {},
   "source": [
    "## TMM"
   ]
  },
  {
   "cell_type": "code",
   "execution_count": null,
   "metadata": {},
   "outputs": [],
   "source": [
    "# Dimension of latent variables\n",
    "z_dim = 1\n",
    "h_dim = None # This value is not necessary for the TMM model\n",
    "num_neurons = 63 #? == h_dim?\n",
    "\n",
    "#--------------------------------------------\n",
    "#! Change here if the model is the same but with different parameters\n",
    "setting = ''# '_1' #* Change to '', '_1', '_2', etc. if the model is the same but with different parameters\n",
    "#--------------------------------------------\n",
    "model = TMM(x_dim, z_dim, y_dim, num_neurons, device)"
   ]
  },
  {
   "cell_type": "code",
   "execution_count": null,
   "metadata": {},
   "outputs": [],
   "source": [
    "#--------------------------------------------\n",
    "# Save models\n",
    "#--------------------------------------------\n",
    "model.to(device)\n",
    "optimizer = torch.optim.Adam(model.parameters(), lr=learning_rate, weight_decay= weight_decay_)\n",
    "print(f'{model.__class__.__name__ } has {num_param(model)} parameters to train' )\n",
    "print(f'z_dim = {z_dim}, num_neurons = {num_neurons}, h_dim = {h_dim}')\n",
    "data = model.__class__.__name__.casefold()+'_'+name_image+setting\n",
    "path_save = os.path.join(general_path, data)\n",
    "if not os.path.exists(path_save):\n",
    "    os.makedirs(path_save)\n",
    "print(f'Actual path to save our models for {data} is \\n {path_save} ')\n"
   ]
  },
  {
   "cell_type": "markdown",
   "metadata": {},
   "source": [
    "### Training"
   ]
  },
  {
   "cell_type": "code",
   "execution_count": null,
   "metadata": {},
   "outputs": [],
   "source": [
    "# #* Training\n",
    "# #* epoch_init = 1 by default\n",
    "# loss = run_model_seq(x, y,model,optimizer,clip, path_save, n_epochs,save_every, print_every)"
   ]
  },
  {
   "cell_type": "markdown",
   "metadata": {},
   "source": [
    "### Initialization from a specific epoch "
   ]
  },
  {
   "cell_type": "code",
   "execution_count": null,
   "metadata": {},
   "outputs": [],
   "source": [
    "# #* Initialization of the model in an specific epoch\n",
    "model.to(device)\n",
    "epoch_init = 100\n",
    "optimizer = torch.optim.Adam(model.parameters(), lr=learning_rate, weight_decay= weight_decay_)\n",
    "#-----------------------------------------------------\n",
    "model = final_model(model, optimizer, epoch_init, path_save, device=device)\n",
    "#loss = run_model_seq(x, y,model,optimizer,clip, path_save, n_epochs,save_every, print_every, epoch_init)\n"
   ]
  },
  {
   "cell_type": "markdown",
   "metadata": {},
   "source": [
    "### Reconstruction image"
   ]
  },
  {
   "cell_type": "code",
   "execution_count": null,
   "metadata": {},
   "outputs": [],
   "source": [
    "# #* Reconstruction\n",
    "y_ = model.sample(x,y)\n",
    "y_pred_m = y_[np.where(y1 == -1)].detach().numpy()\n",
    "y_true_m = y_true[np.where(y1 == -1)]\n",
    "error_rate = 1-accuracy_score(y_true_m, y_pred_m)\n",
    "print(f'{name_image}: {model.__class__.__name__ } with  {num_param(model)} parameters \\n after {epoch_init} has an error rate of {error_rate}\\n folder {data}' )"
   ]
  },
  {
   "cell_type": "code",
   "execution_count": null,
   "metadata": {},
   "outputs": [],
   "source": []
  },
  {
   "cell_type": "markdown",
   "metadata": {},
   "source": [
    "## SVRNN"
   ]
  },
  {
   "cell_type": "code",
   "execution_count": 8,
   "metadata": {},
   "outputs": [],
   "source": [
    "# Dimension of latent variables\n",
    "z_dim = 1\n",
    "h_dim = 20 # This value is not necessary for the TMM model\n",
    "num_neurons = h_dim #? == h_dim?\n",
    "#--------------------------------------------\n",
    "#! Change here if the model is the same but with different parameters\n",
    "setting = \"\"# '_1'# '_1' #* Change to '', '_1', '_2', etc. if the model is the same but with different parameters\n",
    "#--------------------------------------------\n",
    "model = SVRNN(x_dim, z_dim, h_dim, y_dim, num_neurons, device)"
   ]
  },
  {
   "cell_type": "markdown",
   "metadata": {},
   "source": [
    "### Execution"
   ]
  },
  {
   "cell_type": "code",
   "execution_count": 9,
   "metadata": {},
   "outputs": [
    {
     "name": "stdout",
     "output_type": "stream",
     "text": [
      "SVRNN has 5368 parameters to train\n",
      "z_dim = 1, num_neurons = 20, h_dim = 20\n",
      "Actual path to save our models for svrnn_cow40 is \n",
      " C:\\Users\\kmorales\\Desktop\\3th PhD\\MLSP 2023\\Results_save_models\\svrnn_cow40 \n"
     ]
    }
   ],
   "source": [
    "#--------------------------------------------\n",
    "# Save models\n",
    "#--------------------------------------------\n",
    "model.to(device)\n",
    "optimizer = torch.optim.Adam(model.parameters(), lr=learning_rate, weight_decay= weight_decay_)\n",
    "print(f'{model.__class__.__name__ } has {num_param(model)} parameters to train' )\n",
    "print(f'z_dim = {z_dim}, num_neurons = {num_neurons}, h_dim = {h_dim}')\n",
    "data = model.__class__.__name__.casefold()+'_'+name_image+setting\n",
    "path_save = os.path.join(general_path, data)\n",
    "if not os.path.exists(path_save):\n",
    "    os.makedirs(path_save)\n",
    "print(f'Actual path to save our models for {data} is \\n {path_save} ')\n"
   ]
  },
  {
   "cell_type": "code",
   "execution_count": null,
   "metadata": {},
   "outputs": [],
   "source": [
    "# #* Training\n",
    "# loss = run_model_seq(x, y,model,optimizer,clip, path_save, n_epochs,save_every, print_every)"
   ]
  },
  {
   "cell_type": "code",
   "execution_count": 10,
   "metadata": {},
   "outputs": [
    {
     "name": "stdout",
     "output_type": "stream",
     "text": [
      "Actual  path for to initialize our models:  C:\\Users\\kmorales\\Desktop\\3th PhD\\MLSP 2023\\Results_save_models\\svrnn_cow40\n",
      "C:\\Users\\kmorales\\Desktop\\3th PhD\\MLSP 2023\\Results_save_models\\svrnn_cow40\\svrnn_state_100.pth\n",
      "Initialization of the SVRNN model  at epoch 100\n",
      "loss: -168326.125 and epoch: 100\n"
     ]
    }
   ],
   "source": [
    "# #* Initialization of the model in an specific epoch\n",
    "model.to(device)\n",
    "epoch_init = 100\n",
    "optimizer = torch.optim.Adam(model.parameters(), lr=learning_rate, weight_decay= weight_decay_)\n",
    "#-----------------------------------------------------\n",
    "model = final_model(model, optimizer, epoch_init, path_save, device)\n",
    "# # loss = run_model_seq(x, y,model,optimizer,clip, path_save, n_epochs,save_every, print_every, epoch_init)\n"
   ]
  },
  {
   "cell_type": "code",
   "execution_count": 11,
   "metadata": {},
   "outputs": [],
   "source": [
    "# #* Reconstruction\n",
    "y_ = model.sample(x,y)\n",
    "y_pred_m = y_[np.where(y1 == -1)].numpy()\n",
    "y_true_m = y_true[np.where(y1 == -1)]\n",
    "error_rate = 1-accuracy_score(y_true_m, y_pred_m)\n",
    "print(f'{name_image}: {model.__class__.__name__ } with  {num_param(model)} parameters \\n after {epoch_init} has an error rate of {error_rate}\\n folder {data}' )"
   ]
  },
  {
   "cell_type": "code",
   "execution_count": null,
   "metadata": {},
   "outputs": [],
   "source": [
    "# #* Reconstruction\n",
    "y_ = model.sample(x,y)\n",
    "y_pred_m = y_[np.where(y1 == -1)].numpy()\n",
    "y_true_m = y_true[np.where(y1 == -1)]\n",
    "error_rate = 1-accuracy_score(y_true_m, y_pred_m)\n",
    "print(f'{name_image}: {model.__class__.__name__ } with  {num_param(model)} parameters \\n after {epoch_init} has an error rate of {error_rate}\\n folder {data}' )"
   ]
  },
  {
   "cell_type": "code",
   "execution_count": null,
   "metadata": {},
   "outputs": [],
   "source": [
    "# #* Reconstruction\n",
    "y_ = model.sample(x,y)\n",
    "y_pred_m = y_[np.where(y1 == -1)].numpy()\n",
    "y_true_m = y_true[np.where(y1 == -1)]\n",
    "error_rate = 1-accuracy_score(y_true_m, y_pred_m)\n",
    "print(f'{name_image}: {model.__class__.__name__ } with  {num_param(model)} parameters \\n after {epoch_init} has an error rate of {error_rate}\\n folder {data}' )"
   ]
  },
  {
   "cell_type": "code",
   "execution_count": null,
   "metadata": {},
   "outputs": [],
   "source": [
    "# y_ = model.sample(x,y)\n",
    "# y_pred = y_[np.where(y1 == -1)].detach().numpy()\n",
    "# y_label = y_list[idx].reshape(m*n, 1)\n",
    "# y_true = y_label[np.where(y1 == -1)]\n",
    "# 1-accuracy_score(y_true, y_pred)\n"
   ]
  },
  {
   "cell_type": "markdown",
   "metadata": {},
   "source": [
    "# Other Code\n",
    "Creation missing labels and plots"
   ]
  },
  {
   "cell_type": "code",
   "execution_count": null,
   "metadata": {},
   "outputs": [],
   "source": [
    "#-------------------------------\n",
    "# Change the name to create or load the data and models\n",
    "\n",
    "folder_data = r'C:\\Users\\kmorales\\Google Drive\\PhD\\Simulations_semi_super\\Data\\data_mlsp_semi'\n",
    "\n",
    "\n",
    "x_list = []\n",
    "y_list = []\n",
    "# y_list_40 = []\n",
    "# y_list_60 = []\n",
    "# y_list_80 = []\n",
    "# y_list_100 = []\n",
    "\n",
    "\n",
    "for img in sorted(os.listdir(folder_data)):\n",
    "    if img.startswith('x'):\n",
    "        x_list.append(plt.imread(os.path.join(folder_data, img)))\n",
    "    if img.startswith('y') and not img.endswith('npy'):\n",
    "        y = plt.imread(os.path.join(folder_data, img))\n",
    "        y_list.append(y)\n",
    "        # Only if we want to create the missing labels for different probabilities\n",
    "#         for p in probabilities:\n",
    "#             if p == 0.4:\n",
    "#                 y_list_40.append(create_missing_labels(y, p))\n",
    "#             elif p == 0.6:\n",
    "#                 y_list_60.append(create_missing_labels(y, p))\n",
    "#             elif p == 0.8:\n",
    "#                 y_list_80.append(create_missing_labels(y, p))\n",
    "#             elif p == 1:\n",
    "#                 y_list_100.append(create_missing_labels(y, p))\n",
    "        \n",
    "# np.save(os.path.join(general_path, folder_data, 'y_miss_40.npy'), y_list_40)\n",
    "# np.save(os.path.join(general_path, folder_data, 'y_miss_60.npy'), y_list_60)\n",
    "# np.save(os.path.join(general_path, folder_data, 'y_miss_80.npy'), y_list_80)\n",
    "# np.save(os.path.join(general_path, folder_data, 'y_miss_100.npy'), y_list_100)\n",
    "\n",
    "# Load the created data \n",
    "y_list_40 = np.load(os.path.join(general_path, folder_data, 'y_miss_40.npy'))\n",
    "y_list_60 = np.load(os.path.join(general_path, folder_data, 'y_miss_60.npy'))\n",
    "y_list_80 = np.load(os.path.join(general_path, folder_data, 'y_miss_80.npy'))\n",
    "y_list_100 = np.load(os.path.join(general_path, folder_data, 'y_miss_100.npy'))"
   ]
  },
  {
   "cell_type": "code",
   "execution_count": null,
   "metadata": {},
   "outputs": [],
   "source": [
    "\n",
    "fig = plt.figure(figsize=(20, 30))  \n",
    "rows = len(x_list)\n",
    "columns = 6\n",
    "m, n = x_list[0].shape\n",
    "\n",
    "\n",
    "for i, (x,y, y1,y2,y3, y4) in enumerate(zip(x_list, y_list, y_list_40, y_list_60, y_list_80, y_list_100)):\n",
    "    print(x.shape)\n",
    "    fig.add_subplot(rows, columns, columns*i+1)\n",
    "    x[m-1, n-1] = -1\n",
    "    plt.imshow(x, cmap='gray')\n",
    "    plt.title('Image  idex {}'.format(i))\n",
    "    #plt.axis('off')\n",
    "    fig.add_subplot(rows, columns, columns*i+2)\n",
    "    y[m-1, n-1] = -1\n",
    "    plt.imshow(y, cmap='gray')\n",
    "    #plt.axis('off')\n",
    "    fig.add_subplot(rows, columns, columns*i+3)\n",
    "    plt.imshow(y1, cmap='gray')\n",
    "    #plt.axis('off')\n",
    "    fig.add_subplot(rows, columns, columns*i+4)\n",
    "    plt.imshow(y2, cmap='gray')\n",
    "    #plt.axis('off')\n",
    "    fig.add_subplot(rows, columns, columns*i+5)\n",
    "    plt.imshow(y3, cmap='gray')\n",
    "    #plt.axis('off')\n",
    "    fig.add_subplot(rows, columns, columns*i+6)\n",
    "    plt.imshow(y4, cmap='gray')\n",
    "\n"
   ]
  },
  {
   "cell_type": "code",
   "execution_count": null,
   "metadata": {},
   "outputs": [],
   "source": [
    "print('{} has {} parameters to train'.format(model.__class__.__name__ ,num_param(model)) )"
   ]
  },
  {
   "cell_type": "code",
   "execution_count": null,
   "metadata": {},
   "outputs": [],
   "source": [
    "y_ = model.sample(x,y)\n",
    "image_complete = y_.clone().detach().numpy().reshape(m,n)\n",
    "image_complete[m-1,n-1] = -1\n",
    "image_labeled = y_list[idx].copy()\n",
    "image_labeled[m-1,n-1] = -1\n",
    "plt.imshow(x_list[idx])\n",
    "plt.show()\n",
    "plt.imshow(image_complete)\n",
    "plt.show()\n",
    "plt.imshow(image_labeled)\n",
    "plt.show()\n",
    "plt.imshow(y_list_80[idx])\n",
    "plt.show()\n",
    "\n",
    "\n",
    "unique, counts = np.unique(y_true, return_counts=True)\n",
    "print(unique, counts)\n",
    "unique, counts = np.unique(y_pred, return_counts=True)\n",
    "print(unique, counts)"
   ]
  }
 ],
 "metadata": {
  "kernelspec": {
   "display_name": "Python 3",
   "language": "python",
   "name": "python3"
  },
  "language_info": {
   "codemirror_mode": {
    "name": "ipython",
    "version": 3
   },
   "file_extension": ".py",
   "mimetype": "text/x-python",
   "name": "python",
   "nbconvert_exporter": "python",
   "pygments_lexer": "ipython3",
   "version": "3.7.6"
  },
  "vscode": {
   "interpreter": {
    "hash": "ad1b2571548246114fecf39d36c90373949ef600ffd6c7010bad9bfc5901cee0"
   }
  }
 },
 "nbformat": 4,
 "nbformat_minor": 2
}
